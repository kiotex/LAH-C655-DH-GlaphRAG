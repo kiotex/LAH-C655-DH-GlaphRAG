{
  "nbformat": 4,
  "nbformat_minor": 0,
  "metadata": {
    "colab": {
      "provenance": []
    },
    "kernelspec": {
      "name": "python3",
      "display_name": "Python 3"
    },
    "language_info": {
      "name": "python"
    },
    "widgets": {
      "application/vnd.jupyter.widget-state+json": {
        "ea3a4d684fb743cf91ee127b8f19e787": {
          "model_module": "yfiles-jupyter-graphs",
          "model_name": "GraphModel",
          "model_module_version": "^1.9.0",
          "state": {
            "_context_pane_mapping": [
              {
                "id": "Neighborhood",
                "title": "Neighborhood"
              },
              {
                "id": "Data",
                "title": "Data"
              },
              {
                "id": "Search",
                "title": "Search"
              },
              {
                "id": "About",
                "title": "About"
              }
            ],
            "_data_importer": "neo4j",
            "_directed": true,
            "_dom_classes": [],
            "_edges": [
              {
                "id": 1152922604118474800,
                "start": 1,
                "end": 2,
                "properties": {
                  "label": "INTEREST"
                },
                "label": "INTEREST",
                "color": "#607D8B",
                "thickness_factor": 1,
                "directed": true
              },
              {
                "id": 1155174403932160000,
                "start": 1,
                "end": 3,
                "properties": {
                  "label": "INTEREST"
                },
                "label": "INTEREST",
                "color": "#607D8B",
                "thickness_factor": 1,
                "directed": true
              },
              {
                "id": 1152935798258008000,
                "start": 1,
                "end": 18,
                "properties": {
                  "label": "至った"
                },
                "label": "至った",
                "color": "#673AB7",
                "thickness_factor": 1,
                "directed": true
              },
              {
                "id": 1152943494839402500,
                "start": 1,
                "end": 2,
                "properties": {
                  "label": "趣味"
                },
                "label": "趣味",
                "color": "#CDDC39",
                "thickness_factor": 1,
                "directed": true
              },
              {
                "id": 6917551017873637000,
                "start": 1,
                "end": 3,
                "properties": {
                  "label": "趣味"
                },
                "label": "趣味",
                "color": "#CDDC39",
                "thickness_factor": 1,
                "directed": true
              },
              {
                "id": 6917552117385265000,
                "start": 1,
                "end": 7,
                "properties": {
                  "label": "取材"
                },
                "label": "取材",
                "color": "#9E9E9E",
                "thickness_factor": 1,
                "directed": true
              },
              {
                "id": 6919807215733834000,
                "start": 1,
                "end": 42,
                "properties": {
                  "label": "求める"
                },
                "label": "求める",
                "color": "#9C27B0",
                "thickness_factor": 1,
                "directed": true
              },
              {
                "id": 6917555415920148000,
                "start": 1,
                "end": 87,
                "properties": {
                  "label": "求める"
                },
                "label": "求める",
                "color": "#9C27B0",
                "thickness_factor": 1,
                "directed": true
              },
              {
                "id": 6917559813966660000,
                "start": 1,
                "end": 7,
                "properties": {
                  "label": "面倒"
                },
                "label": "面倒",
                "color": "#2196F3",
                "thickness_factor": 1,
                "directed": true
              },
              {
                "id": 1152953390444052500,
                "start": 1,
                "end": 2,
                "properties": {
                  "label": "眺める"
                },
                "label": "眺める",
                "color": "#4CAF50",
                "thickness_factor": 1,
                "directed": true
              },
              {
                "id": 1152957788490563600,
                "start": 1,
                "end": 2,
                "properties": {
                  "label": "所有"
                },
                "label": "所有",
                "color": "#F44336",
                "thickness_factor": 1,
                "directed": true
              },
              {
                "id": 6917566411036426000,
                "start": 1,
                "end": 42,
                "properties": {
                  "label": "買い出し"
                },
                "label": "買い出し",
                "color": "#607D8B",
                "thickness_factor": 1,
                "directed": true
              },
              {
                "id": 6917604893943398000,
                "start": 1,
                "end": 113,
                "properties": {
                  "label": "考える"
                },
                "label": "考える",
                "color": "#673AB7",
                "thickness_factor": 1,
                "directed": true
              },
              {
                "id": 1153047948444041200,
                "start": 1,
                "end": 2,
                "properties": {
                  "label": "所在地は"
                },
                "label": "所在地は",
                "color": "#CDDC39",
                "thickness_factor": 1,
                "directed": true
              },
              {
                "id": 1153051246978924500,
                "start": 1,
                "end": 2,
                "properties": {
                  "label": "RESIDES"
                },
                "label": "RESIDES",
                "color": "#9E9E9E",
                "thickness_factor": 1,
                "directed": true
              },
              {
                "id": 6917662068548043000,
                "start": 1,
                "end": 197,
                "properties": {
                  "label": "USES"
                },
                "label": "USES",
                "color": "#9C27B0",
                "thickness_factor": 1,
                "directed": true
              },
              {
                "id": 1155396505280970800,
                "start": 1,
                "end": 2,
                "properties": {
                  "label": "THINKS"
                },
                "label": "THINKS",
                "color": "#2196F3",
                "thickness_factor": 1,
                "directed": true
              },
              {
                "id": 1153144705467285500,
                "start": 1,
                "end": 7,
                "properties": {
                  "label": "THINKS"
                },
                "label": "THINKS",
                "color": "#2196F3",
                "thickness_factor": 1,
                "directed": true
              },
              {
                "id": 1153145804978913300,
                "start": 1,
                "end": 87,
                "properties": {
                  "label": "PLANTS_NEAR"
                },
                "label": "PLANTS_NEAR",
                "color": "#4CAF50",
                "thickness_factor": 1,
                "directed": true
              },
              {
                "id": 1152923703630102500,
                "start": 2,
                "end": 4,
                "properties": {
                  "label": "PREFERENCE"
                },
                "label": "PREFERENCE",
                "color": "#F44336",
                "thickness_factor": 1,
                "directed": true
              },
              {
                "id": 1157427303257473000,
                "start": 2,
                "end": 7,
                "properties": {
                  "label": "PREFERENCE"
                },
                "label": "PREFERENCE",
                "color": "#F44336",
                "thickness_factor": 1,
                "directed": true
              },
              {
                "id": 6919784125989650000,
                "start": 2,
                "end": 7,
                "properties": {
                  "label": "AVOIDANCE"
                },
                "label": "AVOIDANCE",
                "color": "#607D8B",
                "thickness_factor": 1,
                "directed": true
              },
              {
                "id": 6917534525199221000,
                "start": 2,
                "end": 14,
                "properties": {
                  "label": "ILLOGICAL"
                },
                "label": "ILLOGICAL",
                "color": "#673AB7",
                "thickness_factor": 1,
                "directed": true
              },
              {
                "id": 6917535624710849000,
                "start": 2,
                "end": 15,
                "properties": {
                  "label": "ASSOCIATED"
                },
                "label": "ASSOCIATED",
                "color": "#CDDC39",
                "thickness_factor": 1,
                "directed": true
              },
              {
                "id": 6917553216896893000,
                "start": 2,
                "end": 32,
                "properties": {
                  "label": "存在感"
                },
                "label": "存在感",
                "color": "#9E9E9E",
                "thickness_factor": 1,
                "directed": true
              },
              {
                "id": 6917554316408521000,
                "start": 2,
                "end": 41,
                "properties": {
                  "label": "脆弱"
                },
                "label": "脆弱",
                "color": "#9C27B0",
                "thickness_factor": 1,
                "directed": true
              },
              {
                "id": 6917555415920148000,
                "start": 2,
                "end": 42,
                "properties": {
                  "label": "求める"
                },
                "label": "求める",
                "color": "#9C27B0",
                "thickness_factor": 1,
                "directed": true
              },
              {
                "id": 6917555415920148000,
                "start": 2,
                "end": 225,
                "properties": {
                  "label": "求める"
                },
                "label": "求める",
                "color": "#9C27B0",
                "thickness_factor": 1,
                "directed": true
              },
              {
                "id": 6917557614943404000,
                "start": 2,
                "end": 46,
                "properties": {
                  "label": "頼りない"
                },
                "label": "頼りない",
                "color": "#2196F3",
                "thickness_factor": 1,
                "directed": true
              },
              {
                "id": 1152951191420797000,
                "start": 2,
                "end": 1,
                "properties": {
                  "label": "誘う"
                },
                "label": "誘う",
                "color": "#4CAF50",
                "thickness_factor": 1,
                "directed": true
              },
              {
                "id": 6917573008106193000,
                "start": 2,
                "end": 51,
                "properties": {
                  "label": "集積"
                },
                "label": "集積",
                "color": "#F44336",
                "thickness_factor": 1,
                "directed": true
              },
              {
                "id": 6917577406152704000,
                "start": 2,
                "end": 51,
                "properties": {
                  "label": "包含"
                },
                "label": "包含",
                "color": "#607D8B",
                "thickness_factor": 1,
                "directed": true
              },
              {
                "id": 6917578505664332000,
                "start": 2,
                "end": 58,
                "properties": {
                  "label": "構成"
                },
                "label": "構成",
                "color": "#673AB7",
                "thickness_factor": 1,
                "directed": true
              },
              {
                "id": 1152972082141724700,
                "start": 2,
                "end": 1,
                "properties": {
                  "label": "関連"
                },
                "label": "関連",
                "color": "#CDDC39",
                "thickness_factor": 1,
                "directed": true
              },
              {
                "id": 6917579605175960000,
                "start": 2,
                "end": 54,
                "properties": {
                  "label": "関連"
                },
                "label": "関連",
                "color": "#CDDC39",
                "thickness_factor": 1,
                "directed": true
              },
              {
                "id": 1155223881955410000,
                "start": 2,
                "end": 63,
                "properties": {
                  "label": "関連"
                },
                "label": "関連",
                "color": "#CDDC39",
                "thickness_factor": 1,
                "directed": true
              },
              {
                "id": 6917603794431771000,
                "start": 2,
                "end": 97,
                "properties": {
                  "label": "暮らす"
                },
                "label": "暮らす",
                "color": "#9E9E9E",
                "thickness_factor": 1,
                "directed": true
              },
              {
                "id": 6917609291989910000,
                "start": 2,
                "end": 87,
                "properties": {
                  "label": "必要"
                },
                "label": "必要",
                "color": "#9C27B0",
                "thickness_factor": 1,
                "directed": true
              },
              {
                "id": 6917656570989904000,
                "start": 2,
                "end": 189,
                "properties": {
                  "label": "位置する"
                },
                "label": "位置する",
                "color": "#2196F3",
                "thickness_factor": 1,
                "directed": true
              },
              {
                "id": 6917659869524787000,
                "start": 2,
                "end": 187,
                "properties": {
                  "label": "TRANSFORMED_INTO"
                },
                "label": "TRANSFORMED_INTO",
                "color": "#4CAF50",
                "thickness_factor": 1,
                "directed": true
              },
              {
                "id": 1155305245815865300,
                "start": 2,
                "end": 54,
                "properties": {
                  "label": "CONTAINS"
                },
                "label": "CONTAINS",
                "color": "#F44336",
                "thickness_factor": 1,
                "directed": true
              },
              {
                "id": 1153053446002180000,
                "start": 2,
                "end": 78,
                "properties": {
                  "label": "CONTAINS"
                },
                "label": "CONTAINS",
                "color": "#F44336",
                "thickness_factor": 1,
                "directed": true
              },
              {
                "id": 6917685158292226000,
                "start": 2,
                "end": 180,
                "properties": {
                  "label": "配置"
                },
                "label": "配置",
                "color": "#607D8B",
                "thickness_factor": 1,
                "directed": true
              },
              {
                "id": 1153078734769619000,
                "start": 2,
                "end": 3,
                "properties": {
                  "label": "想像"
                },
                "label": "想像",
                "color": "#673AB7",
                "thickness_factor": 1,
                "directed": true
              },
              {
                "id": 6917695053896876000,
                "start": 2,
                "end": 229,
                "properties": {
                  "label": "PLACES"
                },
                "label": "PLACES",
                "color": "#CDDC39",
                "thickness_factor": 1,
                "directed": true
              },
              {
                "id": 6917783014827098000,
                "start": 2,
                "end": 341,
                "properties": {
                  "label": "VISITS"
                },
                "label": "VISITS",
                "color": "#9E9E9E",
                "thickness_factor": 1,
                "directed": true
              },
              {
                "id": 1152939096792891400,
                "start": 3,
                "end": 2,
                "properties": {
                  "label": "関連付けられる"
                },
                "label": "関連付けられる",
                "color": "#9C27B0",
                "thickness_factor": 1,
                "directed": true
              },
              {
                "id": 6917689556338737000,
                "start": 3,
                "end": 90,
                "properties": {
                  "label": "沿う"
                },
                "label": "沿う",
                "color": "#2196F3",
                "thickness_factor": 1,
                "directed": true
              },
              {
                "id": 1153084232327757800,
                "start": 3,
                "end": 83,
                "properties": {
                  "label": "NOT_EXTEND_TO"
                },
                "label": "NOT_EXTEND_TO",
                "color": "#4CAF50",
                "thickness_factor": 1,
                "directed": true
              },
              {
                "id": 1153073237211480000,
                "start": 4,
                "end": 217,
                "properties": {
                  "label": "HAS"
                },
                "label": "HAS",
                "color": "#F44336",
                "thickness_factor": 1,
                "directed": true
              }
            ],
            "_graph_layout": {},
            "_highlight": [],
            "_license": {},
            "_model_module": "yfiles-jupyter-graphs",
            "_model_module_version": "^1.9.0",
            "_model_name": "GraphModel",
            "_neighborhood": {},
            "_nodes": [
              {
                "id": 1,
                "properties": {
                  "id": "彼",
                  "label": "人:Person:__Entity__"
                },
                "color": "#2196F3",
                "styles": {},
                "label": "彼",
                "scale_factor": 1,
                "type": "#2196F3",
                "size": [
                  55,
                  55
                ],
                "position": [
                  0,
                  0
                ]
              },
              {
                "id": 2,
                "properties": {
                  "id": "箱庭",
                  "label": "Landform:Structure:Hobby:__Entity__:Location:場所:Concept"
                },
                "color": "#4CAF50",
                "styles": {},
                "label": "箱庭",
                "scale_factor": 1,
                "type": "#4CAF50",
                "size": [
                  55,
                  55
                ],
                "position": [
                  0,
                  0
                ]
              },
              {
                "id": 3,
                "properties": {
                  "id": "鉄道",
                  "label": "Structure:__Entity__:Infrastructure:Interest:Concept"
                },
                "color": "#F44336",
                "styles": {},
                "label": "鉄道",
                "scale_factor": 1,
                "type": "#F44336",
                "size": [
                  55,
                  55
                ],
                "position": [
                  0,
                  0
                ]
              },
              {
                "id": 18,
                "properties": {
                  "id": "結論",
                  "label": "Concept:__Entity__"
                },
                "color": "#607D8B",
                "styles": {},
                "label": "結論",
                "scale_factor": 1,
                "type": "#607D8B",
                "size": [
                  55,
                  55
                ],
                "position": [
                  0,
                  0
                ]
              },
              {
                "id": 7,
                "properties": {
                  "id": "旅",
                  "label": "Concept:Traveling:__Entity__"
                },
                "color": "#673AB7",
                "styles": {},
                "label": "旅",
                "scale_factor": 1,
                "type": "#673AB7",
                "size": [
                  55,
                  55
                ],
                "position": [
                  0,
                  0
                ]
              },
              {
                "id": 42,
                "properties": {
                  "id": "素材",
                  "label": "Concept:__Entity__"
                },
                "color": "#607D8B",
                "styles": {},
                "label": "素材",
                "scale_factor": 1,
                "type": "#607D8B",
                "size": [
                  55,
                  55
                ],
                "position": [
                  0,
                  0
                ]
              },
              {
                "id": 87,
                "properties": {
                  "id": "レモン",
                  "label": "Fruit:Product:Plant:Concept:Food:物:Object:__Entity__:食べ物"
                },
                "color": "#CDDC39",
                "styles": {},
                "label": "レモン",
                "scale_factor": 1,
                "type": "#CDDC39",
                "size": [
                  55,
                  55
                ],
                "position": [
                  0,
                  0
                ]
              },
              {
                "id": 113,
                "properties": {
                  "id": "爆弾",
                  "label": "武器:Object:__Entity__"
                },
                "color": "#9E9E9E",
                "styles": {},
                "label": "爆弾",
                "scale_factor": 1,
                "type": "#9E9E9E",
                "size": [
                  55,
                  55
                ],
                "position": [
                  0,
                  0
                ]
              },
              {
                "id": 197,
                "properties": {
                  "id": "携帯端末",
                  "label": "Device:__Entity__"
                },
                "color": "#9C27B0",
                "styles": {},
                "label": "携帯端末",
                "scale_factor": 1,
                "type": "#9C27B0",
                "size": [
                  55,
                  55
                ],
                "position": [
                  0,
                  0
                ]
              },
              {
                "id": 4,
                "properties": {
                  "id": "家",
                  "label": "Miniature:__Entity__"
                },
                "color": "#2196F3",
                "styles": {},
                "label": "家",
                "scale_factor": 1,
                "type": "#2196F3",
                "size": [
                  55,
                  55
                ],
                "position": [
                  0,
                  0
                ]
              },
              {
                "id": 14,
                "properties": {
                  "id": "持ち運び",
                  "label": "__Entity__"
                },
                "color": "#4CAF50",
                "styles": {},
                "label": "持ち運び",
                "scale_factor": 1,
                "type": "#4CAF50",
                "size": [
                  55,
                  55
                ],
                "position": [
                  0,
                  0
                ]
              },
              {
                "id": 15,
                "properties": {
                  "id": "息苦しさ",
                  "label": "__Entity__"
                },
                "color": "#4CAF50",
                "styles": {},
                "label": "息苦しさ",
                "scale_factor": 1,
                "type": "#4CAF50",
                "size": [
                  55,
                  55
                ],
                "position": [
                  0,
                  0
                ]
              },
              {
                "id": 32,
                "properties": {
                  "id": "汽車",
                  "label": "Concept:__Entity__"
                },
                "color": "#607D8B",
                "styles": {},
                "label": "汽車",
                "scale_factor": 1,
                "type": "#607D8B",
                "size": [
                  55,
                  55
                ],
                "position": [
                  0,
                  0
                ]
              },
              {
                "id": 41,
                "properties": {
                  "id": "思い出",
                  "label": "Concept:__Entity__"
                },
                "color": "#607D8B",
                "styles": {},
                "label": "思い出",
                "scale_factor": 1,
                "type": "#607D8B",
                "size": [
                  55,
                  55
                ],
                "position": [
                  0,
                  0
                ]
              },
              {
                "id": 225,
                "properties": {
                  "id": "高低差",
                  "label": "Concept:__Entity__"
                },
                "color": "#607D8B",
                "styles": {},
                "label": "高低差",
                "scale_factor": 1,
                "type": "#607D8B",
                "size": [
                  55,
                  55
                ],
                "position": [
                  0,
                  0
                ]
              },
              {
                "id": 46,
                "properties": {
                  "id": "直角",
                  "label": "__Entity__"
                },
                "color": "#4CAF50",
                "styles": {},
                "label": "直角",
                "scale_factor": 1,
                "type": "#4CAF50",
                "size": [
                  55,
                  55
                ],
                "position": [
                  0,
                  0
                ]
              },
              {
                "id": 51,
                "properties": {
                  "id": "細部",
                  "label": "Concept:__Entity__"
                },
                "color": "#607D8B",
                "styles": {},
                "label": "細部",
                "scale_factor": 1,
                "type": "#607D8B",
                "size": [
                  55,
                  55
                ],
                "position": [
                  0,
                  0
                ]
              },
              {
                "id": 58,
                "properties": {
                  "id": "継ぎ接ぎ",
                  "label": "__Entity__"
                },
                "color": "#4CAF50",
                "styles": {},
                "label": "継ぎ接ぎ",
                "scale_factor": 1,
                "type": "#4CAF50",
                "size": [
                  55,
                  55
                ],
                "position": [
                  0,
                  0
                ]
              },
              {
                "id": 54,
                "properties": {
                  "id": "町",
                  "label": "Concept:Landform:__Entity__:Location"
                },
                "color": "#F44336",
                "styles": {},
                "label": "町",
                "scale_factor": 1,
                "type": "#F44336",
                "size": [
                  55,
                  55
                ],
                "position": [
                  0,
                  0
                ]
              },
              {
                "id": 63,
                "properties": {
                  "id": "庭",
                  "label": "Concept:__Entity__"
                },
                "color": "#607D8B",
                "styles": {},
                "label": "庭",
                "scale_factor": 1,
                "type": "#607D8B",
                "size": [
                  55,
                  55
                ],
                "position": [
                  0,
                  0
                ]
              },
              {
                "id": 97,
                "properties": {
                  "id": "人々",
                  "label": "人:Person:__Entity__"
                },
                "color": "#2196F3",
                "styles": {},
                "label": "人々",
                "scale_factor": 1,
                "type": "#2196F3",
                "size": [
                  55,
                  55
                ],
                "position": [
                  0,
                  0
                ]
              },
              {
                "id": 189,
                "properties": {
                  "id": "海沿い",
                  "label": "__Entity__"
                },
                "color": "#4CAF50",
                "styles": {},
                "label": "海沿い",
                "scale_factor": 1,
                "type": "#4CAF50",
                "size": [
                  55,
                  55
                ],
                "position": [
                  0,
                  0
                ]
              },
              {
                "id": 187,
                "properties": {
                  "id": "倉庫",
                  "label": "Location:__Entity__"
                },
                "color": "#607D8B",
                "styles": {},
                "label": "倉庫",
                "scale_factor": 1,
                "type": "#607D8B",
                "size": [
                  55,
                  55
                ],
                "position": [
                  0,
                  0
                ]
              },
              {
                "id": 78,
                "properties": {
                  "id": "山",
                  "label": "Landform:__Entity__:Location"
                },
                "color": "#673AB7",
                "styles": {},
                "label": "山",
                "scale_factor": 1,
                "type": "#673AB7",
                "size": [
                  55,
                  55
                ],
                "position": [
                  0,
                  0
                ]
              },
              {
                "id": 180,
                "properties": {
                  "id": "鉄道模型",
                  "label": "Concept:Model:__Entity__:モデル"
                },
                "color": "#CDDC39",
                "styles": {},
                "label": "鉄道模型",
                "scale_factor": 1,
                "type": "#CDDC39",
                "size": [
                  55,
                  55
                ],
                "position": [
                  0,
                  0
                ]
              },
              {
                "id": 229,
                "properties": {
                  "id": "平面",
                  "label": "Shape:__Entity__"
                },
                "color": "#9E9E9E",
                "styles": {},
                "label": "平面",
                "scale_factor": 1,
                "type": "#9E9E9E",
                "size": [
                  55,
                  55
                ],
                "position": [
                  0,
                  0
                ]
              },
              {
                "id": 341,
                "properties": {
                  "id": "夜",
                  "label": "Time:__Entity__"
                },
                "color": "#9C27B0",
                "styles": {},
                "label": "夜",
                "scale_factor": 1,
                "type": "#9C27B0",
                "size": [
                  55,
                  55
                ],
                "position": [
                  0,
                  0
                ]
              },
              {
                "id": 90,
                "properties": {
                  "id": "線路",
                  "label": "Infrastructure:Location:物体:Concept:__Entity__"
                },
                "color": "#2196F3",
                "styles": {},
                "label": "線路",
                "scale_factor": 1,
                "type": "#2196F3",
                "size": [
                  55,
                  55
                ],
                "position": [
                  0,
                  0
                ]
              },
              {
                "id": 83,
                "properties": {
                  "id": "海",
                  "label": "概念:風景:Location:Concept:__Entity__:Landform"
                },
                "color": "#4CAF50",
                "styles": {},
                "label": "海",
                "scale_factor": 1,
                "type": "#4CAF50",
                "size": [
                  55,
                  55
                ],
                "position": [
                  0,
                  0
                ]
              },
              {
                "id": 217,
                "properties": {
                  "id": "折りたたみ式の小径自転車",
                  "label": "Bicycle:__Entity__"
                },
                "color": "#F44336",
                "styles": {},
                "label": "折りたたみ式の小径自転車",
                "scale_factor": 1,
                "type": "#F44336",
                "size": [
                  55,
                  55
                ],
                "position": [
                  0,
                  0
                ]
              }
            ],
            "_overview": {
              "enabled": null,
              "overview_set": false
            },
            "_selected_graph": [
              [],
              []
            ],
            "_sidebar": {
              "enabled": false,
              "start_with": null
            },
            "_view_count": null,
            "_view_module": "yfiles-jupyter-graphs",
            "_view_module_version": "^1.9.0",
            "_view_name": "GraphView",
            "layout": "IPY_MODEL_0c9cd3e1679d4df6815f4b24608c3909",
            "tabbable": null,
            "tooltip": null
          }
        },
        "0c9cd3e1679d4df6815f4b24608c3909": {
          "model_module": "@jupyter-widgets/base",
          "model_name": "LayoutModel",
          "model_module_version": "2.0.0",
          "state": {
            "_model_module": "@jupyter-widgets/base",
            "_model_module_version": "2.0.0",
            "_model_name": "LayoutModel",
            "_view_count": null,
            "_view_module": "@jupyter-widgets/base",
            "_view_module_version": "2.0.0",
            "_view_name": "LayoutView",
            "align_content": null,
            "align_items": null,
            "align_self": null,
            "border_bottom": null,
            "border_left": null,
            "border_right": null,
            "border_top": null,
            "bottom": null,
            "display": null,
            "flex": null,
            "flex_flow": null,
            "grid_area": null,
            "grid_auto_columns": null,
            "grid_auto_flow": null,
            "grid_auto_rows": null,
            "grid_column": null,
            "grid_gap": null,
            "grid_row": null,
            "grid_template_areas": null,
            "grid_template_columns": null,
            "grid_template_rows": null,
            "height": "800px",
            "justify_content": null,
            "justify_items": null,
            "left": null,
            "margin": null,
            "max_height": null,
            "max_width": null,
            "min_height": null,
            "min_width": null,
            "object_fit": null,
            "object_position": null,
            "order": null,
            "overflow": null,
            "padding": null,
            "right": null,
            "top": null,
            "visibility": null,
            "width": "100%"
          }
        }
      }
    }
  },
  "cells": [
    {
      "cell_type": "code",
      "source": [
        "# 参考 https://blog.langchain.dev/enhancing-rag-based-applications-accuracy-by-constructing-and-leveraging-knowledge-graphs/"
      ],
      "metadata": {
        "id": "idy48NmiizAM"
      },
      "execution_count": null,
      "outputs": []
    },
    {
      "cell_type": "markdown",
      "source": [
        "必要パッケージのインストール"
      ],
      "metadata": {
        "id": "oJRj60KAMe8K"
      }
    },
    {
      "cell_type": "code",
      "execution_count": null,
      "metadata": {
        "id": "HcmWzBUTwkn_"
      },
      "outputs": [],
      "source": [
        "%%capture\n",
        "%pip install --upgrade --quiet  langchain langchain-community langchain-openai langchain-experimental neo4j wikipedia tiktoken yfiles_jupyter_graphs"
      ]
    },
    {
      "cell_type": "markdown",
      "source": [
        "必要パッケージのインポート"
      ],
      "metadata": {
        "id": "7oLyRbRcMukZ"
      }
    },
    {
      "cell_type": "code",
      "source": [
        "import os\n",
        "from neo4j import GraphDatabase\n",
        "from yfiles_jupyter_graphs import GraphWidget\n",
        "from langchain_core.runnables import RunnableLambda, RunnableParallel, RunnablePassthrough, ConfigurableField\n",
        "from langchain_core.prompts import ChatPromptTemplate\n",
        "from langchain_core.prompts.prompt import PromptTemplate\n",
        "from langchain_core.pydantic_v1 import BaseModel, Field\n",
        "from typing import List\n",
        "from langchain_core.output_parsers import StrOutputParser\n",
        "from langchain_community.graphs import Neo4jGraph\n",
        "from langchain.document_loaders import TextLoader\n",
        "from langchain.text_splitter import TokenTextSplitter\n",
        "from langchain_openai import ChatOpenAI\n",
        "from langchain_experimental.graph_transformers import LLMGraphTransformer\n",
        "from langchain_community.vectorstores import Neo4jVector\n",
        "from langchain_openai import OpenAIEmbeddings\n",
        "from langchain_community.vectorstores.neo4j_vector import remove_lucene_chars\n",
        "\n",
        "try:\n",
        "    import google.colab\n",
        "    from google.colab import output\n",
        "    output.enable_custom_widget_manager()\n",
        "except:\n",
        "    pass"
      ],
      "metadata": {
        "id": "e4CJ4P8_wnpB"
      },
      "execution_count": null,
      "outputs": []
    },
    {
      "cell_type": "markdown",
      "source": [
        "APIキーなどの読み込み"
      ],
      "metadata": {
        "id": "XnX5RK2iNNsm"
      }
    },
    {
      "cell_type": "code",
      "source": [
        "import getpass\n",
        "\n",
        "os.environ[\"OPENAI_API_KEY\"] = getpass.getpass(prompt = 'OpenAIのAPIキーを入力してください')\n",
        "os.environ[\"NEO4J_URI\"] = getpass.getpass(prompt = 'NEO4JのURIを入力してください')\n",
        "os.environ[\"NEO4J_USERNAME\"] = getpass.getpass(prompt = 'NEO4JのUSERNAMEを入力してください')\n",
        "os.environ[\"NEO4J_PASSWORD\"] = getpass.getpass(prompt = 'NEO4Jのパスワードを入力してください')"
      ],
      "metadata": {
        "colab": {
          "base_uri": "https://localhost:8080/"
        },
        "id": "I1HEY7cDiUUl",
        "outputId": "5a64c962-0228-4b34-f333-872b937a03ba"
      },
      "execution_count": null,
      "outputs": [
        {
          "name": "stdout",
          "output_type": "stream",
          "text": [
            "OpenAIのAPIキーを入力してください··········\n",
            "NEO4JのURIを入力してください··········\n",
            "NEO4JのUSERNAMEを入力してください··········\n",
            "NEO4Jのパスワードを入力してください··········\n"
          ]
        }
      ]
    },
    {
      "cell_type": "markdown",
      "source": [
        "小説[円城塔「鉄道模型の夜」](https://www.aozora.gr.jp/cards/001916/files/61171_74826.html)を読み込む"
      ],
      "metadata": {
        "id": "EA-G55hVMycM"
      }
    },
    {
      "cell_type": "code",
      "source": [
        "raw_documents = TextLoader('鉄道模型の夜.txt').load()\n",
        "text_splitter = TokenTextSplitter(chunk_size=512, chunk_overlap=125)\n",
        "documents = text_splitter.split_documents(raw_documents)"
      ],
      "metadata": {
        "id": "ATSvt8Rt3se8"
      },
      "execution_count": null,
      "outputs": []
    },
    {
      "cell_type": "markdown",
      "source": [
        "LLM（ChatGPT）でドキュメントをグラフ化する"
      ],
      "metadata": {
        "id": "M9Iw8mOqNUeK"
      }
    },
    {
      "cell_type": "code",
      "source": [
        "llm=ChatOpenAI(temperature=0, model_name=\"gpt-3.5-turbo-0125\")\n",
        "llm_transformer = LLMGraphTransformer(llm=llm)\n",
        "graph_documents = llm_transformer.convert_to_graph_documents(documents)"
      ],
      "metadata": {
        "id": "cJmIRgT7EzEc"
      },
      "execution_count": null,
      "outputs": []
    },
    {
      "cell_type": "markdown",
      "source": [
        "グラフ化したドキュメント情報の確認"
      ],
      "metadata": {
        "id": "IatuCQr9NgyO"
      }
    },
    {
      "cell_type": "code",
      "source": [
        "graph_documents"
      ],
      "metadata": {
        "colab": {
          "base_uri": "https://localhost:8080/"
        },
        "id": "YjsXhEZr12pD",
        "outputId": "9491cfc5-771a-45c3-c6fe-9335c59795c4"
      },
      "execution_count": null,
      "outputs": [
        {
          "output_type": "execute_result",
          "data": {
            "text/plain": [
              "[GraphDocument(nodes=[Node(id='彼', type='Person', properties={}), Node(id='箱庭', type='Hobby', properties={}), Node(id='鉄道', type='Interest', properties={}), Node(id='家', type='Miniature', properties={}), Node(id='押絵', type='Hobby', properties={}), Node(id='風呂敷', type='Traveling', properties={}), Node(id='旅', type='Traveling', properties={}), Node(id='宇宙', type='Space', properties={}), Node(id='気風', type='Trait', properties={}), Node(id='風景', type='Scenery', properties={}), Node(id='空気穴', type='Requirement', properties={}), Node(id='道', type='Path', properties={})], relationships=[Relationship(source=Node(id='彼', type='Person', properties={}), target=Node(id='箱庭', type='Hobby', properties={}), type='INTEREST', properties={}), Relationship(source=Node(id='彼', type='Person', properties={}), target=Node(id='鉄道', type='Interest', properties={}), type='INTEREST', properties={}), Relationship(source=Node(id='箱庭', type='Hobby', properties={}), target=Node(id='家', type='Miniature', properties={}), type='PREFERENCE', properties={}), Relationship(source=Node(id='押絵', type='Hobby', properties={}), target=Node(id='風呂敷', type='Traveling', properties={}), type='PREFERENCE', properties={}), Relationship(source=Node(id='旅', type='Traveling', properties={}), target=Node(id='宇宙', type='Space', properties={}), type='AVOIDANCE', properties={}), Relationship(source=Node(id='気風', type='Trait', properties={}), target=Node(id='彼', type='Person', properties={}), type='TRAIT', properties={}), Relationship(source=Node(id='旅', type='Traveling', properties={}), target=Node(id='箱庭', type='Hobby', properties={}), type='PREFERENCE', properties={}), Relationship(source=Node(id='箱庭', type='Hobby', properties={}), target=Node(id='旅', type='Traveling', properties={}), type='PREFERENCE', properties={}), Relationship(source=Node(id='箱庭', type='Hobby', properties={}), target=Node(id='旅', type='Traveling', properties={}), type='AVOIDANCE', properties={}), Relationship(source=Node(id='箱庭', type='Hobby', properties={}), target=Node(id='持ち運び', type='Traveling', properties={}), type='ILLOGICAL', properties={}), Relationship(source=Node(id='箱庭', type='Hobby', properties={}), target=Node(id='息苦しさ', type='Constraint', properties={}), type='ASSOCIATED', properties={}), Relationship(source=Node(id='息', type='Constraint', properties={}), target=Node(id='彼', type='Person', properties={}), type='CONCERN', properties={}), Relationship(source=Node(id='風景', type='Scenery', properties={}), target=Node(id='空気穴', type='Requirement', properties={}), type='NECESSITY', properties={}), Relationship(source=Node(id='道', type='Path', properties={}), target=Node(id='彼', type='Person', properties={}), type='SOLUTION', properties={})], source=Document(metadata={'source': '鉄道模型の夜.txt'}, page_content='\\u3000彼の趣味は箱庭であり、鉄道の方はあとからついてきた。だから最初は、小さな庭でも家のミニチュアでも構わなかった。かといって、押絵を風呂敷に包んで旅するような趣味があるわけでなし、縮小するのは持ち運びのためではなかった。旅をするのが面倒なので、宇宙の方をとじこめてしまう。そういう気風が彼にはあった。すなわち、旅をするなら箱庭の中を旅したいのであって、箱庭を持って旅をするなどは本末転倒ということになる。しかし一方、箱庭なるものには息苦しさが伴うのも確かであって、これは箱という制約からくる。とじこめたいが、息はしたいというのが彼の贅沢すぎる悩みである。風景には空気穴がなければならぬ。\\n\\u3000それには、幾筋かの道をつけてやればよい、というのが試行錯誤の末に彼の至った結論であり、右から左へ、あるいは逆に、貫通する何かをおいて')),\n",
              " GraphDocument(nodes=[Node(id='空気穴', type='Concept', properties={}), Node(id='道', type='Concept', properties={}), Node(id='試行錯誤', type='Concept', properties={}), Node(id='彼', type='Person', properties={}), Node(id='結論', type='Concept', properties={}), Node(id='気', type='Concept', properties={}), Node(id='手前', type='Concept', properties={}), Node(id='奥', type='Concept', properties={}), Node(id='遠近法', type='Concept', properties={}), Node(id='自動車教習所', type='Concept', properties={}), Node(id='環状の道', type='Concept', properties={}), Node(id='岬', type='Concept', properties={}), Node(id='盲腸線', type='Concept', properties={}), Node(id='想像', type='Concept', properties={}), Node(id='流れ', type='Concept', properties={}), Node(id='気性', type='Concept', properties={}), Node(id='川', type='Concept', properties={}), Node(id='自由', type='Concept', properties={}), Node(id='鉄道', type='Concept', properties={}), Node(id='汽車', type='Concept', properties={}), Node(id='箱庭', type='Concept', properties={})], relationships=[Relationship(source=Node(id='空気穴', type='Concept', properties={}), target=Node(id='なければならぬ', type='Concept', properties={}), type='必要条件', properties={}), Relationship(source=Node(id='道', type='Concept', properties={}), target=Node(id='つけてやればよい', type='Concept', properties={}), type='方法', properties={}), Relationship(source=Node(id='試行錯誤', type='Concept', properties={}), target=Node(id='結論', type='Concept', properties={}), type='結論は', properties={}), Relationship(source=Node(id='彼', type='Person', properties={}), target=Node(id='結論', type='Concept', properties={}), type='至った', properties={}), Relationship(source=Node(id='右から左へ', type='Concept', properties={}), target=Node(id='気', type='Concept', properties={}), type='通わせる', properties={}), Relationship(source=Node(id='逆に', type='Concept', properties={}), target=Node(id='気', type='Concept', properties={}), type='通わせる', properties={}), Relationship(source=Node(id='手前', type='Concept', properties={}), target=Node(id='奥', type='Concept', properties={}), type='強調する', properties={}), Relationship(source=Node(id='奥', type='Concept', properties={}), target=Node(id='遠近法', type='Concept', properties={}), type='強調する', properties={}), Relationship(source=Node(id='自動車教習所', type='Concept', properties={}), target=Node(id='環状の道', type='Concept', properties={}), type='関連付けられる', properties={}), Relationship(source=Node(id='環状の道', type='Concept', properties={}), target=Node(id='徒労感', type='Concept', properties={}), type='伴う', properties={}), Relationship(source=Node(id='岬', type='Concept', properties={}), target=Node(id='盲腸線', type='Concept', properties={}), type='関連付けられる', properties={}), Relationship(source=Node(id='想像', type='Concept', properties={}), target=Node(id='淀み', type='Concept', properties={}), type='通じる', properties={}), Relationship(source=Node(id='流れ', type='Concept', properties={}), target=Node(id='気性', type='Concept', properties={}), type='合った', properties={}), Relationship(source=Node(id='川', type='Concept', properties={}), target=Node(id='道', type='Concept', properties={}), type='関連付けられる', properties={}), Relationship(source=Node(id='道', type='Concept', properties={}), target=Node(id='自由', type='Concept', properties={}), type='関連付けられる', properties={}), Relationship(source=Node(id='鉄道', type='Concept', properties={}), target=Node(id='箱庭', type='Concept', properties={}), type='関連付けられる', properties={}), Relationship(source=Node(id='汽車', type='Concept', properties={}), target=Node(id='走り抜ける', type='Concept', properties={}), type='関連付けられる', properties={})], source=Document(metadata={'source': '鉄道模型の夜.txt'}, page_content='�には空気穴がなければならぬ。\\n\\u3000それには、幾筋かの道をつけてやればよい、というのが試行錯誤の末に彼の至った結論であり、右から左へ、あるいは逆に、貫通する何かをおいて気を通わせる。手前から奥では遠近法を強調するようでややあざとい。自動車教習所のような環状の道には徒労感が伴うし、岬の果てや盲腸線といった想像は淀みに通じる。どこからくるかはしらないし、どこへ行くかもわからない。とにかくそこを経由することだけが確かな、切り取られた流れが彼の気性に合ったのである。\\n\\u3000通すものはなんでもよかった。川でも道でも自由だったが、ふと、鉄道という単語が浮かんで、汽車が走り抜けるというのはそれだけで、なんだか箱庭を最後までつくりきることができそうな気持ちにさせるのである。\\n\\u3000そうして彼は、鉄道の走る箱庭を趣味と')),\n",
              " GraphDocument(nodes=[Node(id='彼', type='Person', properties={}), Node(id='鉄道', type='Concept', properties={}), Node(id='箱庭', type='Concept', properties={}), Node(id='汽車', type='Concept', properties={}), Node(id='思い出', type='Concept', properties={}), Node(id='素材', type='Concept', properties={}), Node(id='旅', type='Concept', properties={})], relationships=[Relationship(source=Node(id='彼', type='Person', properties={}), target=Node(id='鉄道', type='Concept', properties={}), type='趣味', properties={}), Relationship(source=Node(id='彼', type='Person', properties={}), target=Node(id='箱庭', type='Concept', properties={}), type='趣味', properties={}), Relationship(source=Node(id='彼', type='Person', properties={}), target=Node(id='旅', type='Concept', properties={}), type='取材', properties={}), Relationship(source=Node(id='箱庭', type='Concept', properties={}), target=Node(id='汽車', type='Concept', properties={}), type='存在感', properties={}), Relationship(source=Node(id='箱庭', type='Concept', properties={}), target=Node(id='思い出', type='Concept', properties={}), type='脆弱', properties={}), Relationship(source=Node(id='箱庭', type='Concept', properties={}), target=Node(id='素材', type='Concept', properties={}), type='求める', properties={}), Relationship(source=Node(id='思い出', type='Concept', properties={}), target=Node(id='紙', type='Concept', properties={}), type='つくられた', properties={}), Relationship(source=Node(id='思い出', type='Concept', properties={}), target=Node(id='プラスチック', type='Concept', properties={}), type='つくられた', properties={}), Relationship(source=Node(id='箱庭', type='Concept', properties={}), target=Node(id='直角', type='Concept', properties={}), type='頼りない', properties={}), Relationship(source=Node(id='箱庭', type='Concept', properties={}), target=Node(id='彼', type='Person', properties={}), type='誘う', properties={}), Relationship(source=Node(id='彼', type='Person', properties={}), target=Node(id='旅', type='Concept', properties={}), type='面倒', properties={}), Relationship(source=Node(id='彼', type='Person', properties={}), target=Node(id='箱庭', type='Concept', properties={}), type='眺める', properties={}), Relationship(source=Node(id='箱庭', type='Concept', properties={}), target=Node(id='素材', type='Concept', properties={}), type='求める', properties={}), Relationship(source=Node(id='旅', type='Concept', properties={}), target=Node(id='箱庭', type='Concept', properties={}), type='出掛ける', properties={}), Relationship(source=Node(id='なりゆき', type='Concept', properties={}), target=Node(id='奇妙', type='Concept', properties={}), type='思う', properties={}), Relationship(source=Node(id='なりゆき', type='Concept', properties={}), target=Node(id='苦', type='Concept', properties={}), type='感じる', properties={})], source=Document(metadata={'source': '鉄道模型の夜.txt'}, page_content='という単語が浮かんで、汽車が走り抜けるというのはそれだけで、なんだか箱庭を最後までつくりきることができそうな気持ちにさせるのである。\\n\\u3000そうして彼は、鉄道の走る箱庭を趣味とすることになったわけだが、嵩じて自然に、取材の旅へ出ることとなり、これは彼の頭の容積よりも空の方が広かったという事実に起因していて、つまりは素材に窮してしまった。箱庭の中では汽車だけが確固たる存在感を放ち続けて、彼の中の思い出たちはまるで紙かプラスチックでつくられたように脆弱であり、直角さえもが頼りなくみえたのである。\\n\\n\\u3000箱庭づくりはこうして彼を箱の外へと誘うことになり、旅をするのが面倒なので箱庭を眺めるつもりの彼は、箱庭の素材を求めて旅へと出掛ける羽目に陥った。そのなりゆきを奇妙とは思ったものの、意外に苦とは感じなかった。')),\n",
              " GraphDocument(nodes=[Node(id='彼', type='Person', properties={}), Node(id='箱庭', type='Concept', properties={}), Node(id='素材', type='Concept', properties={}), Node(id='旅', type='Concept', properties={}), Node(id='カメラ', type='Concept', properties={}), Node(id='細部', type='Concept', properties={}), Node(id='模型', type='Concept', properties={}), Node(id='レンズ', type='Concept', properties={}), Node(id='風景', type='Concept', properties={}), Node(id='町', type='Concept', properties={})], relationships=[Relationship(source=Node(id='彼', type='Person', properties={}), target=Node(id='箱庭', type='Concept', properties={}), type='所有', properties={}), Relationship(source=Node(id='彼', type='Person', properties={}), target=Node(id='素材', type='Concept', properties={}), type='求める', properties={}), Relationship(source=Node(id='彼', type='Person', properties={}), target=Node(id='旅', type='Concept', properties={}), type='面倒', properties={}), Relationship(source=Node(id='彼', type='Person', properties={}), target=Node(id='箱庭', type='Concept', properties={}), type='眺める', properties={}), Relationship(source=Node(id='彼', type='Person', properties={}), target=Node(id='素材', type='Concept', properties={}), type='買い出し', properties={}), Relationship(source=Node(id='カメラ', type='Concept', properties={}), target=Node(id='細部', type='Concept', properties={}), type='利用', properties={}), Relationship(source=Node(id='カメラ', type='Concept', properties={}), target=Node(id='レンズ', type='Concept', properties={}), type='構える', properties={}), Relationship(source=Node(id='レンズ', type='Concept', properties={}), target=Node(id='印象', type='Concept', properties={}), type='強化', properties={}), Relationship(source=Node(id='レンズ', type='Concept', properties={}), target=Node(id='広角', type='Concept', properties={}), type='試す', properties={}), Relationship(source=Node(id='広角', type='Concept', properties={}), target=Node(id='光景', type='Concept', properties={}), type='当惑', properties={}), Relationship(source=Node(id='箱庭', type='Concept', properties={}), target=Node(id='細部', type='Concept', properties={}), type='集積', properties={}), Relationship(source=Node(id='細部', type='Concept', properties={}), target=Node(id='風景', type='Concept', properties={}), type='写実的', properties={}), Relationship(source=Node(id='細部', type='Concept', properties={}), target=Node(id='継ぎ接ぎ', type='Concept', properties={}), type='成り立つ', properties={}), Relationship(source=Node(id='町', type='Concept', properties={}), target=Node(id='一瞬', type='Concept', properties={}), type='いつか', properties={})], source=Document(metadata={'source': '鉄道模型の夜.txt'}, page_content='とになり、旅をするのが面倒なので箱庭を眺めるつもりの彼は、箱庭の素材を求めて旅へと出掛ける羽目に陥った。そのなりゆきを奇妙とは思ったものの、意外に苦とは感じなかった。カメラを構えて、模型に利用できそうな細部を集める旅は、箱庭の素材を買い出しに出掛けるのと大きく変わるところがないと彼は感じた。カメラについた望遠寄りのレンズもまたその印象を強化した。はじめの頃は広角のレンズを試してみたこともあったのだが、そこに広がるまるで旅先のような光景は彼をひどく当惑させた。それほど大きな広がりは頭の中に入りきりそうにはなかった。\\n\\u3000彼のつくるほんの三十センチ四方程度の箱庭は、写実的などこかの風景というものではなく、あちらこちらから集められてきた細部の集積であり継ぎ接ぎから成り立っている。どこかの町のいつかの一瞬を正�')),\n",
              " GraphDocument(nodes=[Node(id='箱庭', type='Concept', properties={}), Node(id='風景', type='Concept', properties={}), Node(id='細部', type='Concept', properties={}), Node(id='町', type='Concept', properties={}), Node(id='天気', type='Concept', properties={}), Node(id='季節', type='Concept', properties={}), Node(id='彼', type='Person', properties={}), Node(id='庭', type='Concept', properties={}), Node(id='川', type='Concept', properties={}), Node(id='道', type='Concept', properties={}), Node(id='鉄道', type='Concept', properties={}), Node(id='カーブ', type='Concept', properties={}), Node(id='模型', type='Concept', properties={}), Node(id='自然', type='Concept', properties={})], relationships=[Relationship(source=Node(id='箱庭', type='Concept', properties={}), target=Node(id='細部', type='Concept', properties={}), type='包含', properties={}), Relationship(source=Node(id='箱庭', type='Concept', properties={}), target=Node(id='継ぎ接ぎ', type='Concept', properties={}), type='構成', properties={}), Relationship(source=Node(id='箱庭', type='Concept', properties={}), target=Node(id='町', type='Concept', properties={}), type='関連', properties={}), Relationship(source=Node(id='箱庭', type='Concept', properties={}), target=Node(id='彼', type='Person', properties={}), type='関連', properties={}), Relationship(source=Node(id='箱庭', type='Concept', properties={}), target=Node(id='庭', type='Concept', properties={}), type='関連', properties={}), Relationship(source=Node(id='川', type='Concept', properties={}), target=Node(id='道', type='Concept', properties={}), type='隣接', properties={}), Relationship(source=Node(id='川', type='Concept', properties={}), target=Node(id='鉄道', type='Concept', properties={}), type='交差', properties={}), Relationship(source=Node(id='川', type='Concept', properties={}), target=Node(id='カーブ', type='Concept', properties={}), type='好み', properties={}), Relationship(source=Node(id='模型', type='Concept', properties={}), target=Node(id='自然', type='Concept', properties={}), type='比較', properties={})], source=Document(metadata={'source': '鉄道模型の夜.txt'}, page_content='んの三十センチ四方程度の箱庭は、写実的などこかの風景というものではなく、あちらこちらから集められてきた細部の集積であり継ぎ接ぎから成り立っている。どこかの町のいつかの一瞬を正確に切り取りたいのなら、正にそのときその場所に立っているしかないのであり、箱庭などつくる必要がない。自然においては、今目の前の天気が晴れならそれを雨にすることはできず、春ならそれは冬ではなく、夜なら今は朝ではない。彼が箱庭を愛する理由はそうした堅苦しさというべきか几帳面さというものなのかを大変苦手としているからであり、あちらは朝でこちらは夜で、そちらは春で、すぐとなりは冬であるというような庭を趣味とした。川の横には道が延び、鉄道がその上へ交差しており、ありえぬ急カーブで曲がっていくようなものを好んだ。\\n\\u3000模型につくると、自然はどうしても間延びしていき、尺を')),\n",
              " GraphDocument(nodes=[Node(id='Gardening', type='Hobby', properties={}), Node(id='River', type='Naturalfeature', properties={}), Node(id='Road', type='Infrastructure', properties={}), Node(id='Railway', type='Infrastructure', properties={}), Node(id='Modeling', type='Activity', properties={}), Node(id='Miniature_Garden', type='Artwork', properties={}), Node(id='Mountain', type='Naturalfeature', properties={}), Node(id='Flat_Land', type='Naturalfeature', properties={}), Node(id='Shopping_District', type='Infrastructure', properties={}), Node(id='Sea', type='Naturalfeature', properties={})], relationships=[Relationship(source=Node(id='Gardening', type='Hobby', properties={}), target=Node(id='River', type='Naturalfeature', properties={}), type='INTEREST', properties={}), Relationship(source=Node(id='River', type='Naturalfeature', properties={}), target=Node(id='Road', type='Infrastructure', properties={}), type='ADJACENT', properties={}), Relationship(source=Node(id='Road', type='Infrastructure', properties={}), target=Node(id='Railway', type='Infrastructure', properties={}), type='CROSSING', properties={}), Relationship(source=Node(id='Modeling', type='Activity', properties={}), target=Node(id='Miniature_Garden', type='Artwork', properties={}), type='CREATION', properties={}), Relationship(source=Node(id='Mountain', type='Naturalfeature', properties={}), target=Node(id='Flat_Land', type='Naturalfeature', properties={}), type='TRANSITION', properties={}), Relationship(source=Node(id='Flat_Land', type='Naturalfeature', properties={}), target=Node(id='Road', type='Infrastructure', properties={}), type='ADJACENT', properties={}), Relationship(source=Node(id='Flat_Land', type='Naturalfeature', properties={}), target=Node(id='Shopping_District', type='Infrastructure', properties={}), type='ADJACENT', properties={}), Relationship(source=Node(id='Flat_Land', type='Naturalfeature', properties={}), target=Node(id='Sea', type='Naturalfeature', properties={}), type='ADJACENT', properties={})], source=Document(metadata={'source': '鉄道模型の夜.txt'}, page_content='庭を趣味とした。川の横には道が延び、鉄道がその上へ交差しており、ありえぬ急カーブで曲がっていくようなものを好んだ。\\n\\u3000模型につくると、自然はどうしても間延びしていき、尺をただ縮めただけでは本物らしさが消えていく。であるならばと彼は箱庭にやたらと物を詰め込みはじめ、彼のつくる箱庭はちょっと賑やかな弁当箱のような様相を呈しはじめるのだが、自分の眺める世の中はまさにそのようなものなのだから仕方ないという気持ちがしてきて、世の中が実際にこうであればよいのにと考えてみて、こんなにごちゃごちゃとしていてはかなわないなと同時に彼は考えたりする。\\n\\n\\u3000片側に迫る山は狭い平地へ急速に下り、その平地には高い側から鉄道と道路、商店街と続いている。さらに下がると横に長い水の広がりがあり、これはおそらく海と思われ、事')),\n",
              " GraphDocument(nodes=[Node(id='山', type='Landform', properties={}), Node(id='平地', type='Landform', properties={}), Node(id='鉄道', type='Infrastructure', properties={}), Node(id='道路', type='Infrastructure', properties={}), Node(id='商店街', type='Infrastructure', properties={}), Node(id='水', type='Landform', properties={}), Node(id='海', type='Landform', properties={}), Node(id='瀬戸内海', type='Waterbody', properties={}), Node(id='四国', type='Island', properties={}), Node(id='島', type='Landform', properties={}), Node(id='レモン', type='Plant', properties={}), Node(id='フェリー', type='Vehicle', properties={}), Node(id='ロープウェイ', type='Infrastructure', properties={}), Node(id='箱庭', type='Landform', properties={}), Node(id='線路', type='Infrastructure', properties={}), Node(id='鉄道駅', type='Infrastructure', properties={}), Node(id='バスターミナル', type='Infrastructure', properties={}), Node(id='会議場', type='Building', properties={}), Node(id='ホテル', type='Building', properties={}), Node(id='道', type='Infrastructure', properties={}), Node(id='学生', type='Person', properties={}), Node(id='観光客', type='Person', properties={}), Node(id='人々', type='Person', properties={})], relationships=[Relationship(source=Node(id='山', type='Landform', properties={}), target=Node(id='平地', type='Landform', properties={}), type='DESCENDS_TO', properties={}), Relationship(source=Node(id='平地', type='Landform', properties={}), target=Node(id='鉄道', type='Infrastructure', properties={}), type='ADJACENT_TO', properties={}), Relationship(source=Node(id='平地', type='Landform', properties={}), target=Node(id='道路', type='Infrastructure', properties={}), type='ADJACENT_TO', properties={}), Relationship(source=Node(id='平地', type='Landform', properties={}), target=Node(id='商店街', type='Infrastructure', properties={}), type='ADJACENT_TO', properties={}), Relationship(source=Node(id='平地', type='Landform', properties={}), target=Node(id='水', type='Landform', properties={}), type='ADJACENT_TO', properties={}), Relationship(source=Node(id='水', type='Landform', properties={}), target=Node(id='海', type='Landform', properties={}), type='ADJACENT_TO', properties={}), Relationship(source=Node(id='海', type='Landform', properties={}), target=Node(id='四国', type='Island', properties={}), type='ADJACENT_TO', properties={}), Relationship(source=Node(id='四国', type='Island', properties={}), target=Node(id='島', type='Landform', properties={}), type='ADJACENT_TO', properties={}), Relationship(source=Node(id='島', type='Landform', properties={}), target=Node(id='レモン', type='Plant', properties={}), type='HAS_PLANT', properties={}), Relationship(source=Node(id='海', type='Landform', properties={}), target=Node(id='フェリー', type='Vehicle', properties={}), type='HAS_VEHICLE', properties={}), Relationship(source=Node(id='平地', type='Landform', properties={}), target=Node(id='ロープウェイ', type='Infrastructure', properties={}), type='ADJACENT_TO', properties={}), Relationship(source=Node(id='山', type='Landform', properties={}), target=Node(id='ロープウェイ', type='Infrastructure', properties={}), type='ADJACENT_TO', properties={}), Relationship(source=Node(id='山', type='Landform', properties={}), target=Node(id='箱庭', type='Landform', properties={}), type='ADJACENT_TO', properties={}), Relationship(source=Node(id='線路', type='Infrastructure', properties={}), target=Node(id='鉄道駅', type='Infrastructure', properties={}), type='CONNECTS_TO', properties={}), Relationship(source=Node(id='鉄道駅', type='Infrastructure', properties={}), target=Node(id='バスターミナル', type='Infrastructure', properties={}), type='CONNECTS_TO', properties={}), Relationship(source=Node(id='鉄道駅', type='Infrastructure', properties={}), target=Node(id='会議場', type='Building', properties={}), type='ADJACENT_TO', properties={}), Relationship(source=Node(id='鉄道駅', type='Infrastructure', properties={}), target=Node(id='ホテル', type='Building', properties={}), type='ADJACENT_TO', properties={}), Relationship(source=Node(id='海', type='Landform', properties={}), target=Node(id='道', type='Infrastructure', properties={}), type='ADJACENT_TO', properties={}), Relationship(source=Node(id='道', type='Infrastructure', properties={}), target=Node(id='学生', type='Person', properties={}), type='OCCUPIES', properties={}), Relationship(source=Node(id='道', type='Infrastructure', properties={}), target=Node(id='観光客', type='Person', properties={}), type='OCCUPIES', properties={}), Relationship(source=Node(id='道', type='Infrastructure', properties={}), target=Node(id='人々', type='Person', properties={}), type='OCCUPIES', properties={})], source=Document(metadata={'source': '鉄道模型の夜.txt'}, page_content='\\u3000片側に迫る山は狭い平地へ急速に下り、その平地には高い側から鉄道と道路、商店街と続いている。さらに下がると横に長い水の広がりがあり、これはおそらく海と思われ、事実瀬戸内海なのであり、その対岸には四国へと飛び石状に続くはずの島の一部が見えている。島にはレモンが植えられており、黄色い実が点々と並ぶ。海には二隻で対のフェリーが一組浮かんで、平地の終わるところから山へはロープウェイが配置され、行方の方は箱庭の天へと消えてうかがいしれない。\\n\\u3000線路は鉄道駅と駅前のバスターミナルに出迎えられて、周囲には会議場やホテルが並び、海沿いの道が現れる。小さく群れる学生の姿や、スーツケースを転がしたり、自転車を押す観光客の姿が現れ、夕食用の買い物帰りの人々と、朝、会社へ向かう人々')),\n",
              " GraphDocument(nodes=[Node(id='Hotel', type='Place', properties={}), Node(id='Road', type='Place', properties={}), Node(id='Students', type='Person', properties={}), Node(id='Tourists', type='Person', properties={}), Node(id='Shoppers', type='Person', properties={}), Node(id='Commuters', type='Person', properties={}), Node(id='Ferry', type='Vehicle', properties={}), Node(id='Island', type='Place', properties={}), Node(id='Mainland', type='Place', properties={}), Node(id='Cranes', type='Structure', properties={}), Node(id='Floating Dock', type='Structure', properties={})], relationships=[Relationship(source=Node(id='Hotel', type='Place', properties={}), target=Node(id='Road', type='Place', properties={}), type='NEXT_TO', properties={}), Relationship(source=Node(id='Students', type='Person', properties={}), target=Node(id='Tourists', type='Person', properties={}), type='GROUPS_WITH', properties={}), Relationship(source=Node(id='Tourists', type='Person', properties={}), target=Node(id='Shoppers', type='Person', properties={}), type='OBSERVES', properties={}), Relationship(source=Node(id='Shoppers', type='Person', properties={}), target=Node(id='Commuters', type='Person', properties={}), type='MEETS', properties={}), Relationship(source=Node(id='Ferry', type='Vehicle', properties={}), target=Node(id='Island', type='Place', properties={}), type='CONNECTS', properties={}), Relationship(source=Node(id='Ferry', type='Vehicle', properties={}), target=Node(id='Mainland', type='Place', properties={}), type='CONNECTS', properties={}), Relationship(source=Node(id='Cranes', type='Structure', properties={}), target=Node(id='Floating Dock', type='Structure', properties={}), type='NEXT_TO', properties={})], source=Document(metadata={'source': '鉄道模型の夜.txt'}, page_content='やホテルが並び、海沿いの道が現れる。小さく群れる学生の姿や、スーツケースを転がしたり、自転車を押す観光客の姿が現れ、夕食用の買い物帰りの人々と、朝、会社へ向かう人々の流れがすれ違う。夜は東から明け、西に暮れ、フェリーはその境目で、島と陸地を、朝と夕とを結んで行き来している。対岸まではほんの数分の距離であるから、向こうで乗り降りする人数さえも数えられるほどであり、フェリーは着くとすぐ離れ、離れるとまた岸へつき、二隻は互いを追いかけながら巴を描くように見えるのである。\\n\\u3000箱庭の岸には多くのガントリークレーンが並んでおり、浮きドックがその横腹を見せている。大きさとしては駅舎をしのぐそれらの巨大構造物は、まるで気配を消すかのように風景に溶け込んでしまっている。\\n\\u3000もしもそれらの大型機械に注目する者がいたならば、まるで�')),\n",
              " GraphDocument(nodes=[Node(id='大型機械', type='構造物', properties={}), Node(id='静かな町', type='風景', properties={}), Node(id='怪獣たち', type='存在', properties={}), Node(id='箱庭', type='場所', properties={}), Node(id='人々', type='人', properties={}), Node(id='海', type='風景', properties={}), Node(id='彼', type='人', properties={}), Node(id='爆弾', type='武器', properties={}), Node(id='レモン', type='食べ物', properties={}), Node(id='木', type='植物', properties={}), Node(id='対岸の島', type='場所', properties={})], relationships=[Relationship(source=Node(id='大型機械', type='構造物', properties={}), target=Node(id='怪獣たち', type='存在', properties={}), type='注目する', properties={}), Relationship(source=Node(id='静かな町', type='風景', properties={}), target=Node(id='怪獣たち', type='存在', properties={}), type='襲来する', properties={}), Relationship(source=Node(id='箱庭', type='場所', properties={}), target=Node(id='人々', type='人', properties={}), type='暮らす', properties={}), Relationship(source=Node(id='駅', type='場所', properties={}), target=Node(id='海', type='風景', properties={}), type='眺める', properties={}), Relationship(source=Node(id='彼', type='人', properties={}), target=Node(id='爆弾', type='武器', properties={}), type='考える', properties={}), Relationship(source=Node(id='爆弾', type='武器', properties={}), target=Node(id='レモン', type='食べ物', properties={}), type='関連付ける', properties={}), Relationship(source=Node(id='レモン', type='食べ物', properties={}), target=Node(id='木', type='植物', properties={}), type='なる', properties={}), Relationship(source=Node(id='対岸の島', type='場所', properties={}), target=Node(id='彼', type='人', properties={}), type='見る', properties={})], source=Document(metadata={'source': '鉄道模型の夜.txt'}, page_content='を見せている。大きさとしては駅舎をしのぐそれらの巨大構造物は、まるで気配を消すかのように風景に溶け込んでしまっている。\\n\\u3000もしもそれらの大型機械に注目する者がいたならば、まるで静かな町へ巨大な怪獣たちが襲来してきたというような光景がそこには広がるはずなのだが、箱庭に配置された人々はそんな怪獣たちに気がつくこともなく日常を暮らしているわけであり、今、駅から出て海を眺めている彼は、それをとても不思議なことだと考えていて、ここはなんとしても、怪獣たちを倒す手段をみつけなければと、それには爆弾が必要だろうと考えていて、爆弾といえばレモンであって、レモンといえば爆弾だから、是非ともこの箱庭には、レモンが必要だろうと思うのだが、レモンが木になるなどというのはやはり嘘ではないかと、対岸の島の一部を見ながら考えている。\\n\\n\\u3000北国生まれの彼')),\n",
              " GraphDocument(nodes=[Node(id='レモン', type='物', properties={}), Node(id='箱庭', type='場所', properties={}), Node(id='木', type='物', properties={}), Node(id='嘘', type='概念', properties={}), Node(id='対岸の島', type='場所', properties={}), Node(id='北国', type='場所', properties={}), Node(id='彼', type='人', properties={}), Node(id='南', type='方角', properties={}), Node(id='作物', type='物', properties={}), Node(id='輪切り', type='方法', properties={}), Node(id='ソーダ', type='物', properties={}), Node(id='蜂蜜', type='物', properties={}), Node(id='一個', type='数量', properties={}), Node(id='過大', type='状態', properties={}), Node(id='桃', type='物', properties={}), Node(id='水牛のチーズ', type='物', properties={}), Node(id='塩', type='物', properties={}), Node(id='オリーブ油', type='物', properties={}), Node(id='ピーラー', type='物', properties={}), Node(id='包丁', type='物', properties={}), Node(id='肉', type='物', properties={}), Node(id='六片', type='数量', properties={})], relationships=[Relationship(source=Node(id='レモン', type='物', properties={}), target=Node(id='爆弾', type='物', properties={}), type='関連', properties={}), Relationship(source=Node(id='箱庭', type='場所', properties={}), target=Node(id='レモン', type='物', properties={}), type='必要', properties={}), Relationship(source=Node(id='レモン', type='物', properties={}), target=Node(id='木', type='物', properties={}), type='なる', properties={}), Relationship(source=Node(id='嘘', type='概念', properties={}), target=Node(id='木', type='物', properties={}), type='否定', properties={}), Relationship(source=Node(id='対岸の島', type='場所', properties={}), target=Node(id='一部', type='物', properties={}), type='含む', properties={}), Relationship(source=Node(id='北国', type='場所', properties={}), target=Node(id='彼', type='人', properties={}), type='生まれる', properties={}), Relationship(source=Node(id='レモン', type='物', properties={}), target=Node(id='南', type='方角', properties={}), type='関連', properties={}), Relationship(source=Node(id='レモン', type='物', properties={}), target=Node(id='輪切り', type='方法', properties={}), type='される', properties={}), Relationship(source=Node(id='レモン', type='物', properties={}), target=Node(id='ソーダ', type='物', properties={}), type='中に沈める', properties={}), Relationship(source=Node(id='レモン', type='物', properties={}), target=Node(id='蜂蜜', type='物', properties={}), type='中に沈める', properties={}), Relationship(source=Node(id='一個', type='数量', properties={}), target=Node(id='レモン', type='物', properties={}), type='過大', properties={}), Relationship(source=Node(id='彼', type='人', properties={}), target=Node(id='レモン', type='物', properties={}), type='求める', properties={}), Relationship(source=Node(id='桃', type='物', properties={}), target=Node(id='水牛のチーズ', type='物', properties={}), type='合わせる', properties={}), Relationship(source=Node(id='水牛のチーズ', type='物', properties={}), target=Node(id='彼', type='人', properties={}), type='合わせる', properties={}), Relationship(source=Node(id='桃', type='物', properties={}), target=Node(id='乱切り', type='方法', properties={}), type='する', properties={}), Relationship(source=Node(id='桃', type='物', properties={}), target=Node(id='塩', type='物', properties={}), type='振る', properties={}), Relationship(source=Node(id='オリーブ油', type='物', properties={}), target=Node(id='まわしかけ', type='方法', properties={}), type='する', properties={}), Relationship(source=Node(id='レモン', type='物', properties={}), target=Node(id='皮', type='物', properties={}), type='細切り', properties={}), Relationship(source=Node(id='ピーラー', type='物', properties={}), target=Node(id='試す', type='方法', properties={}), type='する', properties={}), Relationship(source=Node(id='包丁', type='物', properties={}), target=Node(id='切る', type='方法', properties={}), type='好み', properties={}), Relationship(source=Node(id='レモン', type='物', properties={}), target=Node(id='皮', type='物', properties={}), type='刃を当てる', properties={}), Relationship(source=Node(id='肉', type='物', properties={}), target=Node(id='当たらぬ', type='状態', properties={}), type='する', properties={}), Relationship(source=Node(id='皮', type='物', properties={}), target=Node(id='削ぐ', type='方法', properties={}), type='続ける', properties={}), Relationship(source=Node(id='六片', type='数量', properties={}), target=Node(id='皮', type='物', properties={}), type='取る', properties={}), Relationship(source=Node(id='皮', type='物', properties={}), target=Node(id='多目', type='状態', properties={}), type='よい', properties={}), Relationship(source=Node(id='二片', type='数量', properties={}), target=Node(id='皮', type='物', properties={}), type='充分', properties={})], source=Document(metadata={'source': '鉄道模型の夜.txt'}, page_content='て、レモンといえば爆弾だから、是非ともこの箱庭には、レモンが必要だろうと思うのだが、レモンが木になるなどというのはやはり嘘ではないかと、対岸の島の一部を見ながら考えている。\\n\\n\\u3000北国生まれの彼にとっては、レモンというのは遠い南の作物で、基本的に輪切りにされて、ソーダや蜂蜜の中に沈められているものなのだった。丸まま一個のレモンがすでに過大であって使いきれる気もしない。\\n\\u3000彼がレモンを求めるのは、桃の季節に水牛のチーズと合わせるためくらいのもので、チーズをちぎり、桃を乱切りにして塩を振る。オリーブ油をまわしかけ、細切りにしたレモンの皮を散らすのである。専用のピーラーを試してみたこともあるのだが、包丁で切った方が好みに合った。レモンの皮に刃を当てて、肉に当たらぬように削ぎ続けると、おおよそ六片くらいがとれる。皮は多目がよいとはいえ、二片もあれば充分であり、さて残')),\n",
              " GraphDocument(nodes=[Node(id='Knife', type='Tool', properties={}), Node(id='Lemon', type='Fruit', properties={}), Node(id='Peel', type='Food', properties={}), Node(id='Meat', type='Food', properties={}), Node(id='Bowl', type='Utensil', properties={}), Node(id='Mustard', type='Condiment', properties={}), Node(id='Cress', type='Food', properties={}), Node(id='Olive Oil', type='Ingredient', properties={})], relationships=[Relationship(source=Node(id='Knife', type='Tool', properties={}), target=Node(id='Peel', type='Food', properties={}), type='USE', properties={}), Relationship(source=Node(id='Lemon', type='Fruit', properties={}), target=Node(id='Peel', type='Food', properties={}), type='PEEL', properties={}), Relationship(source=Node(id='Lemon', type='Fruit', properties={}), target=Node(id='Meat', type='Food', properties={}), type='FLAVOR', properties={}), Relationship(source=Node(id='Bowl', type='Utensil', properties={}), target=Node(id='Lemon', type='Fruit', properties={}), type='SQUEEZE', properties={}), Relationship(source=Node(id='Bowl', type='Utensil', properties={}), target=Node(id='Mustard', type='Condiment', properties={}), type='ADD', properties={}), Relationship(source=Node(id='Cress', type='Food', properties={}), target=Node(id='Bowl', type='Utensil', properties={}), type='MIX', properties={}), Relationship(source=Node(id='Cress', type='Food', properties={}), target=Node(id='Olive Oil', type='Ingredient', properties={}), type='ADD', properties={})], source=Document(metadata={'source': '鉄道模型の夜.txt'}, page_content='のだが、包丁で切った方が好みに合った。レモンの皮に刃を当てて、肉に当たらぬように削ぎ続けると、おおよそ六片くらいがとれる。皮は多目がよいとはいえ、二片もあれば充分であり、さて残りの皮はどうするか、あと二日続けて桃を食べるということだろうか。ところどころ肉をむきだしにして転がるレモンは痛々しく、これを冷蔵庫に放置したなら、干からびるうち凄惨の気を帯びたりもして、正視に耐えない。仕方がないので、和蘭芥子クレソンを買ってくる。ボウルにレモンの果汁を搾り、塩と胡椒、砂糖を適当に振る。粉芥子を溶くかマスタードを落とすかする。和蘭芥子を束のままでねじ切ってあえ、オリーブ油をかけておく。これでようやく一個のレモンを使いきることになるのだが、一仕事という感覚がある。一個でこの有様だから、二つとなれば気が遠くなる。そこに二個のレ')),\n",
              " GraphDocument(nodes=[Node(id='レモン', type='Food', properties={}), Node(id='オリーブ油', type='Food', properties={}), Node(id='木', type='Object', properties={}), Node(id='果樹', type='Plant', properties={}), Node(id='尾道', type='Location', properties={})], relationships=[Relationship(source=Node(id='レモン', type='Food', properties={}), target=Node(id='オリーブ油', type='Food', properties={}), type='USED_WITH', properties={}), Relationship(source=Node(id='レモン', type='Food', properties={}), target=Node(id='木', type='Object', properties={}), type='BECOMES', properties={}), Relationship(source=Node(id='果樹', type='Plant', properties={}), target=Node(id='木', type='Object', properties={}), type='BECOMES', properties={}), Relationship(source=Node(id='尾道', type='Location', properties={}), target=Node(id='果樹', type='Plant', properties={}), type='LOCATION', properties={})], source=Document(metadata={'source': '鉄道模型の夜.txt'}, page_content='�のままでねじ切ってあえ、オリーブ油をかけておく。これでようやく一個のレモンを使いきることになるのだが、一仕事という感覚がある。一個でこの有様だから、二つとなれば気が遠くなる。そこに二個のレモンが並んでいたなら、まずは、自分の目を疑いたくなり、次には全てのレモンはただ一つのレモンの別のあらわれなのではないかと考えたりする。\\n\\u3000そのレモンが木になるという。木になることを知ってはいるが、彼の暮らす世界の中でも実際にそういうことが起こるのである。しかも、果樹というのは、どこかおかしいのではないかとこちらが心配になるほどの数、実を結ぶものであるからなおさらのこと、彼には尾道へ向かう動機があったのである。\\n\\n\\u3000尾道というこの町を彼が取材先に選んだのは第一に緩急を求めたからだ。箱庭における上下の動きは貴重なもので、たとえば１００メートル進む間に10メートル上がる、10％の勾配と')),\n",
              " GraphDocument(nodes=[Node(id='Onomichi', type='Location', properties={}), Node(id='Journalist', type='Person', properties={})], relationships=[Relationship(source=Node(id='Journalist', type='Person', properties={}), target=Node(id='Onomichi', type='Location', properties={}), type='CHOSE_FOR_REPORTING', properties={})], source=Document(metadata={'source': '鉄道模型の夜.txt'}, page_content='\\u3000尾道というこの町を彼が取材先に選んだのは第一に緩急を求めたからだ。箱庭における上下の動きは貴重なもので、たとえば１００メートル進む間に10メートル上がる、10％の勾配というのは道としては急なものだが、これを30センチの箱庭に収めるならば、ほんの３センチほどにしかならず、物足りなさが否めない。\\n\\u3000ここで全高30センチを狙うとなれば、縦断勾配は１００％となってしまうから、ほぼ絶壁ということになる。角度にして45度の坂というのは、遠望するにはただの斜面にすぎないが、直面すると本当に垂直な壁なのだとしか思えない。\\n\\u3000その半分、せめて15センチ程度の高さが欲しいとしても、勾配は50％。坂の角度はまだ26度にもなるのであり、それは模型のことだから多少の嘘はつくにせよ、風景を坂道で構成するのは無理そうであり、階段だよりとなることに')),\n",
              " GraphDocument(nodes=[Node(id='Gradient', type='Concept', properties={}), Node(id='Slope', type='Concept', properties={}), Node(id='Model', type='Concept', properties={}), Node(id='Lie', type='Concept', properties={}), Node(id='Landscape', type='Concept', properties={}), Node(id='Impossible', type='Concept', properties={}), Node(id='Stairs', type='Concept', properties={}), Node(id='Consider', type='Concept', properties={}), Node(id='Onomichi', type='Concept', properties={}), Node(id='Terrain', type='Concept', properties={}), Node(id='Land', type='Concept', properties={}), Node(id='Sea', type='Concept', properties={}), Node(id='Kobe', type='Concept', properties={}), Node(id='Mountain', type='Concept', properties={}), Node(id='Train', type='Concept', properties={}), Node(id='Rokko Mountains', type='Concept', properties={}), Node(id='Awaji Island', type='Concept', properties={}), Node(id='Scenery', type='Concept', properties={}), Node(id='Topography', type='Concept', properties={})], relationships=[Relationship(source=Node(id='Gradient', type='Concept', properties={}), target=Node(id='Slope', type='Concept', properties={}), type='HAS_VALUE', properties={}), Relationship(source=Node(id='Slope', type='Concept', properties={}), target=Node(id='Model', type='Concept', properties={}), type='DESCRIBES', properties={}), Relationship(source=Node(id='Model', type='Concept', properties={}), target=Node(id='Lie', type='Concept', properties={}), type='INVOLVES', properties={}), Relationship(source=Node(id='Lie', type='Concept', properties={}), target=Node(id='Landscape', type='Concept', properties={}), type='COMPOSES', properties={}), Relationship(source=Node(id='Landscape', type='Concept', properties={}), target=Node(id='Impossible', type='Concept', properties={}), type='RESULTS_IN', properties={}), Relationship(source=Node(id='Impossible', type='Concept', properties={}), target=Node(id='Stairs', type='Concept', properties={}), type='LEADS_TO', properties={}), Relationship(source=Node(id='Stairs', type='Concept', properties={}), target=Node(id='Consider', type='Concept', properties={}), type='INVOLVES', properties={}), Relationship(source=Node(id='Consider', type='Concept', properties={}), target=Node(id='Onomichi', type='Concept', properties={}), type='MENTIONS', properties={}), Relationship(source=Node(id='Terrain', type='Concept', properties={}), target=Node(id='Land', type='Concept', properties={}), type='CONSISTS_OF', properties={}), Relationship(source=Node(id='Terrain', type='Concept', properties={}), target=Node(id='Sea', type='Concept', properties={}), type='CONSISTS_OF', properties={}), Relationship(source=Node(id='Land', type='Concept', properties={}), target=Node(id='Kobe', type='Concept', properties={}), type='ALTERNATIVE_TO', properties={}), Relationship(source=Node(id='Sea', type='Concept', properties={}), target=Node(id='Mountain', type='Concept', properties={}), type='ALTERNATIVE_TO', properties={}), Relationship(source=Node(id='Train', type='Concept', properties={}), target=Node(id='Rokko Mountains', type='Concept', properties={}), type='INCLUDES', properties={}), Relationship(source=Node(id='Rokko Mountains', type='Concept', properties={}), target=Node(id='Awaji Island', type='Concept', properties={}), type='INCLUDES', properties={}), Relationship(source=Node(id='Scenery', type='Concept', properties={}), target=Node(id='Topography', type='Concept', properties={}), type='REPRESENTS', properties={})], source=Document(metadata={'source': '鉄道模型の夜.txt'}, page_content='��しいとしても、勾配は50％。坂の角度はまだ26度にもなるのであり、それは模型のことだから多少の嘘はつくにせよ、風景を坂道で構成するのは無理そうであり、階段だよりとなることになる。階段ということならばと考えてみて、彼の頭に浮かんだ名前が尾道である。\\n\\u3000第二には、地形の変化が要り用だった。彼の腕では陸ばかりでは間が持ちにくい。海と山を求めるならば、別に神戸でもよいだろうと出掛けたこともあるのだが、何気なく電車で過ぎるぶんには迫って見えた山々なども、いざ箱庭に収めるという目で眺めてみるとどうにも広がりすぎであり、手に負える気がしないのである。六甲山地から淡路島あたりを含む光景を切り取ることも考えたのだが、それは大きな地勢図となり、鉄道模型からはかけ離れてしまうことになりそうだった。\\n\\u3000そうして、これで最後な')),\n",
              " GraphDocument(nodes=[Node(id='六甲山地', type='地形', properties={}), Node(id='淡路島', type='地形', properties={}), Node(id='鉄道模型', type='モデル', properties={}), Node(id='瀬戸内', type='地名', properties={}), Node(id='瀬戸内海', type='地名', properties={}), Node(id='オホーツク海', type='地名', properties={}), Node(id='太平洋', type='地名', properties={}), Node(id='日本海', type='地名', properties={}), Node(id='地中海', type='地名', properties={}), Node(id='須磨', type='地名', properties={})], relationships=[Relationship(source=Node(id='六甲山地', type='地形', properties={}), target=Node(id='淡路島', type='地形', properties={}), type='含む', properties={}), Relationship(source=Node(id='鉄道模型', type='モデル', properties={}), target=Node(id='光景', type='概念', properties={}), type='切り取る', properties={}), Relationship(source=Node(id='瀬戸内', type='地名', properties={}), target=Node(id='瀬戸内海', type='地名', properties={}), type='所属する', properties={}), Relationship(source=Node(id='瀬戸内海', type='地名', properties={}), target=Node(id='瀬戸内', type='地名', properties={}), type='所属する', properties={}), Relationship(source=Node(id='瀬戸内海', type='地名', properties={}), target=Node(id='海', type='地名', properties={}), type='種類は', properties={}), Relationship(source=Node(id='瀬戸内海', type='地名', properties={}), target=Node(id='湖', type='地名', properties={}), type='種類は', properties={}), Relationship(source=Node(id='瀬戸内海', type='地名', properties={}), target=Node(id='川', type='地名', properties={}), type='種類は', properties={}), Relationship(source=Node(id='瀬戸内海', type='地名', properties={}), target=Node(id='流れ', type='概念', properties={}), type='関連する', properties={}), Relationship(source=Node(id='瀬戸内海', type='地名', properties={}), target=Node(id='北国', type='地名', properties={}), type='関連する', properties={}), Relationship(source=Node(id='瀬戸内海', type='地名', properties={}), target=Node(id='オホーツク海', type='地名', properties={}), type='遠い', properties={}), Relationship(source=Node(id='瀬戸内海', type='地名', properties={}), target=Node(id='太平洋', type='地名', properties={}), type='遠い', properties={}), Relationship(source=Node(id='瀬戸内海', type='地名', properties={}), target=Node(id='日本海', type='地名', properties={}), type='遠い', properties={}), Relationship(source=Node(id='瀬戸内海', type='地名', properties={}), target=Node(id='地中海', type='地名', properties={}), type='遠い', properties={}), Relationship(source=Node(id='須磨', type='地名', properties={}), target=Node(id='瀬戸内海', type='地名', properties={}), type='所在地', properties={}), Relationship(source=Node(id='彼', type='人物', properties={}), target=Node(id='箱庭', type='概念', properties={}), type='所在地は', properties={}), Relationship(source=Node(id='箱庭', type='概念', properties={}), target=Node(id='海沿い', type='概念', properties={}), type='位置する', properties={}), Relationship(source=Node(id='倉庫', type='建物', properties={}), target=Node(id='海沿い', type='概念', properties={}), type='以前は', properties={})], source=Document(metadata={'source': '鉄道模型の夜.txt'}, page_content='である。六甲山地から淡路島あたりを含む光景を切り取ることも考えたのだが、それは大きな地勢図となり、鉄道模型からはかけ離れてしまうことになりそうだった。\\n\\u3000そうして、これで最後なのだが、瀬戸内という言葉の響きが彼には妙に気になっていて、一度ゆっくり見ておきたいものだという気持ちもあった。それは一体、海であるのか湖なのか、川なのか、という素朴な疑問が浮かぶのである。海であるのは間違いないが、それにしては流れがあると聞いたりもする。北国生まれの彼にとっては、瀬戸内海というのはひどく遠い海であり、オホーツク海や太平洋や日本海よりも遠い海であり、下手をすると地中海よりも遠さを感じる海なのである。須磨のあたりの瀬戸内海は、まだまだ入り口なのではないかという疑いがあった。\\n\\n\\u3000彼が箱庭の中にとることになる宿は、海沿いにある。かつては倉庫だった場所')),\n",
              " GraphDocument(nodes=[Node(id='海', type='Location', properties={}), Node(id='須磨', type='Location', properties={}), Node(id='瀬戸内海', type='Location', properties={}), Node(id='彼', type='Person', properties={}), Node(id='箱庭', type='Location', properties={}), Node(id='倉庫', type='Location', properties={}), Node(id='商業施設', type='Location', properties={}), Node(id='レストラン', type='Location', properties={}), Node(id='バーカウンター', type='Location', properties={}), Node(id='土産物', type='Item', properties={}), Node(id='ホテル', type='Location', properties={}), Node(id='フロント', type='Location', properties={}), Node(id='高層の建物', type='Location', properties={}), Node(id='携帯端末', type='Device', properties={}), Node(id='地図', type='Item', properties={}), Node(id='周囲', type='Location', properties={}), Node(id='入り口', type='Location', properties={})], relationships=[Relationship(source=Node(id='海', type='Location', properties={}), target=Node(id='瀬戸内海', type='Location', properties={}), type='ADJACENT', properties={}), Relationship(source=Node(id='須磨', type='Location', properties={}), target=Node(id='瀬戸内海', type='Location', properties={}), type='ADJACENT', properties={}), Relationship(source=Node(id='彼', type='Person', properties={}), target=Node(id='箱庭', type='Location', properties={}), type='RESIDES', properties={}), Relationship(source=Node(id='箱庭', type='Location', properties={}), target=Node(id='倉庫', type='Location', properties={}), type='TRANSFORMED_INTO', properties={}), Relationship(source=Node(id='倉庫', type='Location', properties={}), target=Node(id='商業施設', type='Location', properties={}), type='TRANSFORMED_INTO', properties={}), Relationship(source=Node(id='商業施設', type='Location', properties={}), target=Node(id='レストラン', type='Location', properties={}), type='CONTAINS', properties={}), Relationship(source=Node(id='商業施設', type='Location', properties={}), target=Node(id='バーカウンター', type='Location', properties={}), type='CONTAINS', properties={}), Relationship(source=Node(id='商業施設', type='Location', properties={}), target=Node(id='土産物', type='Item', properties={}), type='CONTAINS', properties={}), Relationship(source=Node(id='土産物', type='Item', properties={}), target=Node(id='ホテル', type='Location', properties={}), type='LEADS_TO', properties={}), Relationship(source=Node(id='ホテル', type='Location', properties={}), target=Node(id='フロント', type='Location', properties={}), type='CONNECTS_TO', properties={}), Relationship(source=Node(id='彼', type='Person', properties={}), target=Node(id='携帯端末', type='Device', properties={}), type='USES', properties={}), Relationship(source=Node(id='携帯端末', type='Device', properties={}), target=Node(id='地図', type='Item', properties={}), type='DISPLAYS', properties={}), Relationship(source=Node(id='地図', type='Item', properties={}), target=Node(id='周囲', type='Location', properties={}), type='SHOWS', properties={}), Relationship(source=Node(id='周囲', type='Location', properties={}), target=Node(id='ホテル', type='Location', properties={}), type='NOT_FOUND', properties={}), Relationship(source=Node(id='入り口', type='Location', properties={}), target=Node(id='ホテル', type='Location', properties={}), type='EXISTS', properties={})], source=Document(metadata={'source': '鉄道模型の夜.txt'}, page_content='海よりも遠さを感じる海なのである。須磨のあたりの瀬戸内海は、まだまだ入り口なのではないかという疑いがあった。\\n\\n\\u3000彼が箱庭の中にとることになる宿は、海沿いにある。かつては倉庫だった場所を改装した形で、二階建てとなっている。何か強い意図があったわけではなくて、検索の結果目についたものを適当に選んだだけである。半分以上は商業施設となっており、レストランが置かれており、バーカウンターが併設される形である。土産物が並んでおり、その並びのままホテルのフロントにつながるのである。\\n\\u3000なにとなく、高層の建物を想像していた彼は携帯端末に表示される地図を見ながら周囲を何度か回りつつ、ホテルらしきものが見あたらないのを奇妙に思うことになるのだが、立ち止まって落ち着いて目をあげたなら、そこにはホテルの入り口があり、なるほど、そういうことであったのかともう一度、�')),\n",
              " GraphDocument(nodes=[Node(id='Hotel', type='Place', properties={}), Node(id='Entrance', type='Place', properties={}), Node(id='Trophy', type='Object', properties={}), Node(id='Handle', type='Object', properties={})], relationships=[Relationship(source=Node(id='Hotel', type='Place', properties={}), target=Node(id='Entrance', type='Place', properties={}), type='HAS_ENTRANCE', properties={}), Relationship(source=Node(id='Entrance', type='Place', properties={}), target=Node(id='Trophy', type='Object', properties={}), type='DECORATION', properties={}), Relationship(source=Node(id='Trophy', type='Object', properties={}), target=Node(id='Handle', type='Object', properties={}), type='USED_FOR', properties={})], source=Document(metadata={'source': '鉄道模型の夜.txt'}, page_content='�度か回りつつ、ホテルらしきものが見あたらないのを奇妙に思うことになるのだが、立ち止まって落ち着いて目をあげたなら、そこにはホテルの入り口があり、なるほど、そういうことであったのかともう一度、倉庫風の建物を眺め直すことになり、するとそこはホテル以外の何物でもなく、今まで自分が何を見ていたものか、過去が急速に拭い去られていくことになる。\\n\\u3000フロントで案内を乞うと二階の部屋の鍵を渡されて、部屋の壁には何か、トロフィーのようなものが突き出ている。ここでいうトロフィーというのは首級で、狩猟の成果の動物の首を剥製にして壁にかけておいたりするあれのことだが、そこにあるのは角だけであり、動物の角ではなくて、自転車のハンドルをかけておくための器材であって、傍には人間はぶら下がらぬようにという意味の注意書きが記されている。\\n\\u3000寝室の向こう側には、壁とガラスで隔て')),\n",
              " GraphDocument(nodes=[Node(id='自転車', type='物', properties={}), Node(id='尾道', type='場所', properties={}), Node(id='しまなみ街道', type='場所', properties={}), Node(id='瀬戸内の島', type='場所', properties={}), Node(id='四国', type='場所', properties={}), Node(id='今治', type='場所', properties={})], relationships=[Relationship(source=Node(id='自転車', type='物', properties={}), target=Node(id='尾道', type='場所', properties={}), type='関連', properties={}), Relationship(source=Node(id='しまなみ街道', type='場所', properties={}), target=Node(id='尾道', type='場所', properties={}), type='起点または終点', properties={}), Relationship(source=Node(id='瀬戸内の島', type='場所', properties={}), target=Node(id='尾道', type='場所', properties={}), type='つながる', properties={}), Relationship(source=Node(id='四国', type='場所', properties={}), target=Node(id='今治', type='場所', properties={}), type='道の端点', properties={})], source=Document(metadata={'source': '鉄道模型の夜.txt'}, page_content='あり、動物の角ではなくて、自転車のハンドルをかけておくための器材であって、傍には人間はぶら下がらぬようにという意味の注意書きが記されている。\\n\\u3000寝室の向こう側には、壁とガラスで隔てられた水場が見えて、外壁の向こうはすぐに、先ほど彼もスーツケースを引きずりながら歩いてきた海沿いの道となっている様子であって、なるほど、道端の向こうに掘られた世界の裏側の隠れ家に到達したような気分となった。\\n\\n\\u3000自転車というのはいうまでもなく、尾道の地は、しまなみ街道の起点なのか終点なのか、とにかく瀬戸内の島をつないで、四国は今治まで続く整備された道の端点なのである。車も通るが、自転車も通る。\\n\\u3000自転車が通ることで有名である。全長で60キロほど、島々をつなぐ海上の道が続くことになっている。\\n\\u3000なるほど、この宿はと彼はようやく思い至って、�')),\n",
              " GraphDocument(nodes=[Node(id='車', type='Vehicle', properties={}), Node(id='自転車', type='Vehicle', properties={}), Node(id='全長で60キロ', type='Distance', properties={}), Node(id='島々をつなぐ海上の道', type='Road', properties={}), Node(id='宿', type='Building', properties={}), Node(id='客', type='Person', properties={}), Node(id='スーツケース', type='Object', properties={}), Node(id='折りたたみ式の小径自転車', type='Bicycle', properties={}), Node(id='ロードバイク', type='Bicycle', properties={}), Node(id='借りる', type='Action', properties={}), Node(id='海の上に鉄道', type='Railway', properties={}), Node(id='鉄道模型', type='Model', properties={})], relationships=[Relationship(source=Node(id='車', type='Vehicle', properties={}), target=Node(id='自転車', type='Vehicle', properties={}), type='CAN_PASS_THROUGH', properties={}), Relationship(source=Node(id='自転車', type='Vehicle', properties={}), target=Node(id='全長で60キロ', type='Distance', properties={}), type='HAS_LENGTH', properties={}), Relationship(source=Node(id='全長で60キロ', type='Distance', properties={}), target=Node(id='島々をつなぐ海上の道', type='Road', properties={}), type='CONNECTS_ISLANDS', properties={}), Relationship(source=Node(id='宿', type='Building', properties={}), target=Node(id='客', type='Person', properties={}), type='TARGETS', properties={}), Relationship(source=Node(id='客', type='Person', properties={}), target=Node(id='スーツケース', type='Object', properties={}), type='CARRIES', properties={}), Relationship(source=Node(id='宿', type='Building', properties={}), target=Node(id='自転車', type='Vehicle', properties={}), type='TARGETS', properties={}), Relationship(source=Node(id='自転車', type='Vehicle', properties={}), target=Node(id='60キロ', type='Distance', properties={}), type='UNCOMFORTABLE_TO_RIDE_THROUGH', properties={}), Relationship(source=Node(id='家', type='Building', properties={}), target=Node(id='折りたたみ式の小径自転車', type='Bicycle', properties={}), type='HAS', properties={}), Relationship(source=Node(id='60キロ', type='Distance', properties={}), target=Node(id='走り抜ける', type='Action', properties={}), type='REQUIRES_EFFORT', properties={}), Relationship(source=Node(id='家', type='Building', properties={}), target=Node(id='ロードバイク', type='Bicycle', properties={}), type='CONSIDERS_GETTING', properties={}), Relationship(source=Node(id='ロードバイク', type='Bicycle', properties={}), target=Node(id='一式揃える', type='Action', properties={}), type='CONSIDERS', properties={}), Relationship(source=Node(id='借りる', type='Action', properties={}), target=Node(id='海の上に鉄道', type='Railway', properties={}), type='CONSIDERS', properties={}), Relationship(source=Node(id='自分', type='Person', properties={}), target=Node(id='鉄道模型', type='Model', properties={}), type='HAS', properties={})], source=Document(metadata={'source': '鉄道模型の夜.txt'}, page_content='。車も通るが、自転車も通る。\\n\\u3000自転車が通ることで有名である。全長で60キロほど、島々をつなぐ海上の道が続くことになっている。\\n\\u3000なるほど、この宿はと彼はようやく思い至って、自転車でやってくる客を主に想定して［＃「想定して」は底本では「想定してて」］いたのかと、スーツケースをゴロゴロと引きずってきた自分の姿が妙に可笑しくなったのであり、それならば自分もと意気込んでから、なにをどうしたものかと考えはじめた。家には確かに、折りたたみ式の小径自転車があるのだったが、それで60キロほどを走り抜けるというのは心許なく、さてそれではロードバイクを一式揃える気が起こるかというとそういうものでもないのであって、では借りるかと考えてみてからようやく、海の上に鉄道はあるまいということに思い至った。今回自分は、鉄道模型を配置するような箱庭の�')),\n",
              " GraphDocument(nodes=[Node(id='鉄道', type='Concept', properties={}), Node(id='海', type='Concept', properties={}), Node(id='鉄道模型', type='Concept', properties={}), Node(id='箱庭', type='Concept', properties={}), Node(id='高低差', type='Concept', properties={}), Node(id='島', type='Concept', properties={}), Node(id='汽車', type='Concept', properties={}), Node(id='鰐', type='Concept', properties={}), Node(id='白兎', type='Concept', properties={}), Node(id='線路', type='Concept', properties={})], relationships=[Relationship(source=Node(id='箱庭', type='Concept', properties={}), target=Node(id='鉄道模型', type='Concept', properties={}), type='配置', properties={}), Relationship(source=Node(id='箱庭', type='Concept', properties={}), target=Node(id='高低差', type='Concept', properties={}), type='求める', properties={}), Relationship(source=Node(id='箱庭', type='Concept', properties={}), target=Node(id='鉄道', type='Concept', properties={}), type='想像', properties={}), Relationship(source=Node(id='島', type='Concept', properties={}), target=Node(id='海', type='Concept', properties={}), type='渡る', properties={}), Relationship(source=Node(id='鰐', type='Concept', properties={}), target=Node(id='白兎', type='Concept', properties={}), type='浮かぶ', properties={}), Relationship(source=Node(id='鉄道', type='Concept', properties={}), target=Node(id='線路', type='Concept', properties={}), type='沿う', properties={})], source=Document(metadata={'source': '鉄道模型の夜.txt'}, page_content='が起こるかというとそういうものでもないのであって、では借りるかと考えてみてからようやく、海の上に鉄道はあるまいということに思い至った。今回自分は、鉄道模型を配置するような箱庭の取材にここへとやってきたのであって、高低差を求めてやってきたのである。架空の箱庭のことであるから、海の上、島々を結んで走る鉄道を想像するのも自由だったが、そうするための心の準備は全くできていないのであり、果たして世界のどこかには、主に海の上を走る汽車なるものがあるのかどうかもわからなかった。\\n\\u3000実のところ彼の中では、島を伝って海を渡るという想像自体が育っておらず、並んで浮かぶ鰐の背中を跳んでいく白兎の姿が浮かんだりする程度のもので、鉄道を通せるような強固な土台を海につくれずいるのである。\\n\\n\\u3000鉄道沿いの道は平坦なのだが、線路を北へ越')),\n",
              " GraphDocument(nodes=[Node(id='白兎', type='Animal', properties={}), Node(id='鉄道', type='Structure', properties={}), Node(id='海', type='Location', properties={}), Node(id='商店街', type='Location', properties={}), Node(id='四国', type='Location', properties={}), Node(id='町', type='Location', properties={}), Node(id='箱庭', type='Structure', properties={}), Node(id='平面', type='Shape', properties={}), Node(id='海岸線', type='Location', properties={}), Node(id='山陽本線', type='Location', properties={}), Node(id='大宝山', type='Location', properties={}), Node(id='階段', type='Structure', properties={}), Node(id='ロープウェイ', type='Transport', properties={}), Node(id='寺', type='Location', properties={})], relationships=[Relationship(source=Node(id='白兎', type='Animal', properties={}), target=Node(id='かぶ鰐', type='Animal', properties={}), type='JUMPS_OVER', properties={}), Relationship(source=Node(id='鉄道', type='Structure', properties={}), target=Node(id='海', type='Location', properties={}), type='NOT_EXTEND_TO', properties={}), Relationship(source=Node(id='道', type='Location', properties={}), target=Node(id='鉄道', type='Structure', properties={}), type='ALONGSIDE', properties={}), Relationship(source=Node(id='道', type='Location', properties={}), target=Node(id='平面', type='Shape', properties={}), type='NEXT_TO', properties={}), Relationship(source=Node(id='線路', type='Structure', properties={}), target=Node(id='北', type='Location', properties={}), type='EXTENDS_TO', properties={}), Relationship(source=Node(id='線路', type='Structure', properties={}), target=Node(id='南', type='Location', properties={}), type='EXTENDS_TO', properties={}), Relationship(source=Node(id='南', type='Location', properties={}), target=Node(id='商店街', type='Location', properties={}), type='LEADS_TO', properties={}), Relationship(source=Node(id='南', type='Location', properties={}), target=Node(id='海', type='Location', properties={}), type='LEADS_TO', properties={}), Relationship(source=Node(id='海', type='Location', properties={}), target=Node(id='四国', type='Location', properties={}), type='LEADS_TO', properties={}), Relationship(source=Node(id='町', type='Location', properties={}), target=Node(id='箱庭', type='Structure', properties={}), type='BECOMES', properties={}), Relationship(source=Node(id='箱庭', type='Structure', properties={}), target=Node(id='平面', type='Shape', properties={}), type='PLACES', properties={}), Relationship(source=Node(id='海', type='Location', properties={}), target=Node(id='海岸線', type='Location', properties={}), type='BESIDE', properties={}), Relationship(source=Node(id='海岸線', type='Location', properties={}), target=Node(id='線路', type='Structure', properties={}), type='ALONGSIDE', properties={}), Relationship(source=Node(id='山陽本線', type='Location', properties={}), target=Node(id='線路', type='Structure', properties={}), type='SIMILAR_TO', properties={}), Relationship(source=Node(id='大宝山', type='Location', properties={}), target=Node(id='箱庭', type='Structure', properties={}), type='INCLUDES', properties={}), Relationship(source=Node(id='山', type='Location', properties={}), target=Node(id='大宝山', type='Location', properties={}), type='NEXT_TO', properties={}), Relationship(source=Node(id='階段', type='Structure', properties={}), target=Node(id='ロープウェイ', type='Transport', properties={}), type='LEADS_TO', properties={}), Relationship(source=Node(id='山', type='Location', properties={}), target=Node(id='階段', type='Structure', properties={}), type='NEXT_TO', properties={}), Relationship(source=Node(id='ロープウェイ', type='Transport', properties={}), target=Node(id='山', type='Location', properties={}), type='LEADS_TO', properties={}), Relationship(source=Node(id='ロープウェイ', type='Transport', properties={}), target=Node(id='海', type='Location', properties={}), type='LEADS_TO', properties={}), Relationship(source=Node(id='ロープウェイ', type='Transport', properties={}), target=Node(id='寺', type='Location', properties={}), type='NEAR', properties={})], source=Document(metadata={'source': '鉄道模型の夜.txt'}, page_content='�かぶ鰐の背中を跳んでいく白兎の姿が浮かんだりする程度のもので、鉄道を通せるような強固な土台を海につくれずいるのである。\\n\\n\\u3000鉄道沿いの道は平坦なのだが、線路を北へ越えると急激に坂が立ち上がり、南へ向かえば商店街と海が広がり、その先には四国へ続く道が延びてゆく。\\n\\u3000彼がまず把握する町の形はそうなっており、これはそのまま箱庭のプランとなっていく。彼は最初に四角い平面を置くのであり、おおまかに海と陸の見当をつける。海岸線に寄り添うように線路を描いて、山陽本線のようなものと考えておく。大宝山への道を散策しながら、箱庭に置く山の高さを考えていく。切り立つ階段を前にして、素直にロープウェイに頼ることにし、海への見晴らしのきく山上へと至る。ロープウェイは、寺の境内にある建物をかす')),\n",
              " GraphDocument(nodes=[Node(id='山', type='Landform', properties={}), Node(id='ロープウェイ', type='Transportation', properties={}), Node(id='海', type='Landform', properties={}), Node(id='町', type='Landform', properties={}), Node(id='寺', type='Building', properties={}), Node(id='建物', type='Building', properties={}), Node(id='自分', type='Person', properties={}), Node(id='居心地', type='Feeling', properties={}), Node(id='大宝山', type='Landform', properties={}), Node(id='石碑', type='Artifact', properties={}), Node(id='文学のこみち', type='Literature', properties={}), Node(id='作家', type='Person', properties={}), Node(id='詩人', type='Person', properties={}), Node(id='文章', type='Literature', properties={}), Node(id='岩', type='Landform', properties={}), Node(id='子規', type='Person', properties={}), Node(id='板看板', type='Artifact', properties={})], relationships=[Relationship(source=Node(id='山', type='Landform', properties={}), target=Node(id='ロープウェイ', type='Transportation', properties={}), type='CONNECTS', properties={}), Relationship(source=Node(id='山', type='Landform', properties={}), target=Node(id='海', type='Landform', properties={}), type='ADJACENTTO', properties={}), Relationship(source=Node(id='山', type='Landform', properties={}), target=Node(id='町', type='Landform', properties={}), type='ADJACENTTO', properties={}), Relationship(source=Node(id='ロープウェイ', type='Transportation', properties={}), target=Node(id='寺', type='Building', properties={}), type='PASSESBY', properties={}), Relationship(source=Node(id='ロープウェイ', type='Transportation', properties={}), target=Node(id='町', type='Landform', properties={}), type='PASSESBY', properties={}), Relationship(source=Node(id='自分', type='Person', properties={}), target=Node(id='居心地', type='Feeling', properties={}), type='FEELS', properties={}), Relationship(source=Node(id='大宝山', type='Landform', properties={}), target=Node(id='石碑', type='Artifact', properties={}), type='LOCATEDAT', properties={}), Relationship(source=Node(id='文学のこみち', type='Literature', properties={}), target=Node(id='作家', type='Person', properties={}), type='ASSOCIATEDWITH', properties={}), Relationship(source=Node(id='文学のこみち', type='Literature', properties={}), target=Node(id='詩人', type='Person', properties={}), type='ASSOCIATEDWITH', properties={}), Relationship(source=Node(id='作家', type='Person', properties={}), target=Node(id='文章', type='Literature', properties={}), type='WRITES', properties={}), Relationship(source=Node(id='大宝山', type='Landform', properties={}), target=Node(id='岩', type='Landform', properties={}), type='LOCATEDAT', properties={}), Relationship(source=Node(id='岩', type='Landform', properties={}), target=Node(id='子規', type='Person', properties={}), type='INSCRIPTION', properties={}), Relationship(source=Node(id='岩', type='Landform', properties={}), target=Node(id='板看板', type='Artifact', properties={}), type='ADJACENTTO', properties={})], source=Document(metadata={'source': '鉄道模型の夜.txt'}, page_content='�しながら、箱庭に置く山の高さを考えていく。切り立つ階段を前にして、素直にロープウェイに頼ることにし、海への見晴らしのきく山上へと至る。ロープウェイは、寺の境内にある建物をかすめるような形で進み、町にはすでにあらゆるものが詰め込まれているようでもあって、どうにも自分がつくろうとしているものが先に実現されてしまっているような居心地の悪さを彼は感じて、自分のつくる箱庭では、ロープウェイの行き先を天上にしようと決めることになるのである。\\n\\u3000大宝山からの下り道には、多くの石碑が並べられ、文学のこみちと呼ばれるそこでは、尾道ゆかりの作家や詩人の文章が刻まれていて、栗のような形の大きな岩には、\\n\\nのどかさや\\n\\u3000小山つヽきに\\n\\u3000\\u3000\\u3000\\u3000塔二つ\\n\\u3000\\u3000\\u3000\\u3000\\u3000子規\\n\\n\\u3000とあり、傍らでは、申し訳程度の屋根をのせた白色の板看板が丁�')),\n",
              " GraphDocument(nodes=[Node(id='栗のような形の大きな岩', type='岩', properties={}), Node(id='のどかさや', type='俳句', properties={}), Node(id='小山つヽき', type='山', properties={}), Node(id='塔二つ', type='塔', properties={}), Node(id='子規', type='人', properties={}), Node(id='正岡子規', type='人', properties={}), Node(id='松山の人', type='人', properties={}), Node(id='ホトトギス', type='俳誌', properties={}), Node(id='日清', type='時代', properties={}), Node(id='日本新聞', type='新聞', properties={}), Node(id='尾道', type='地名', properties={}), Node(id='西国寺の三重塔', type='塔', properties={}), Node(id='天寧寺の海重塔', type='塔', properties={})], relationships=[Relationship(source=Node(id='松山の人', type='人', properties={}), target=Node(id='ホトトギス', type='俳誌', properties={}), type='発刊', properties={}), Relationship(source=Node(id='ホトトギス', type='俳誌', properties={}), target=Node(id='子規', type='人', properties={}), type='俳句革新の大先達', properties={}), Relationship(source=Node(id='子規', type='人', properties={}), target=Node(id='のどかさや', type='俳句', properties={}), type='作品', properties={}), Relationship(source=Node(id='子規', type='人', properties={}), target=Node(id='小山つヽき', type='山', properties={}), type='眺めた', properties={}), Relationship(source=Node(id='子規', type='人', properties={}), target=Node(id='塔二つ', type='塔', properties={}), type='眺めた', properties={}), Relationship(source=Node(id='子規', type='人', properties={}), target=Node(id='西国寺の三重塔', type='塔', properties={}), type='眺めた', properties={}), Relationship(source=Node(id='子規', type='人', properties={}), target=Node(id='天寧寺の海重塔', type='塔', properties={}), type='眺めた', properties={}), Relationship(source=Node(id='子規', type='人', properties={}), target=Node(id='尾道', type='地名', properties={}), type='通過した', properties={}), Relationship(source=Node(id='日清', type='時代', properties={}), target=Node(id='尾道', type='地名', properties={}), type='役', properties={}), Relationship(source=Node(id='日本新聞', type='新聞', properties={}), target=Node(id='尾道', type='地名', properties={}), type='従軍記者', properties={})], source=Document(metadata={'source': '鉄道模型の夜.txt'}, page_content='いて、栗のような形の大きな岩には、\\n\\nのどかさや\\n\\u3000小山つヽきに\\n\\u3000\\u3000\\u3000\\u3000塔二つ\\n\\u3000\\u3000\\u3000\\u3000\\u3000子規\\n\\n\\u3000とあり、傍らでは、申し訳程度の屋根をのせた白色の板看板が丁寧に、\\n\\n\\u3000正岡子規\\nのどかさや\\n\\u3000小山つづきに塔二つ\\n\\n松山の人、俳誌「ホトトギス」を発刊、俳句革新の大先達となった。\\nこの句は、日清の役に、日本新聞の従軍記者として尾道を通過したときの作で、西国寺の三重塔と天寧寺の海重塔を眺めたものであろう。\\n\\n\\u3000と説明を施しており、なるほど、通過したのであるかと思ったりする。通過しただけで刻まれるということならば、この山全体が尾道に多少なりとも関係した文章全ての貯蔵庫のようなものとも思えてきて、どうも箱庭の中に箱庭をつくる男をみつけたような、箱庭の中でそれぞれに勝手な箱庭をつくり�')),\n",
              " GraphDocument(nodes=[Node(id='尾道', type='Location', properties={}), Node(id='トマトスキヤキ', type='Food', properties={}), Node(id='尾道ラーメン', type='Food', properties={}), Node(id='オコゼの唐揚げ', type='Food', properties={}), Node(id='乾物屋', type='Shop', properties={}), Node(id='海鮮', type='Food', properties={}), Node(id='自転車の客', type='Person', properties={})], relationships=[Relationship(source=Node(id='尾道', type='Location', properties={}), target=Node(id='トマトスキヤキ', type='Food', properties={}), type='ORIGINATED_FROM', properties={}), Relationship(source=Node(id='尾道', type='Location', properties={}), target=Node(id='尾道ラーメン', type='Food', properties={}), type='FEATURES', properties={}), Relationship(source=Node(id='尾道', type='Location', properties={}), target=Node(id='オコゼの唐揚げ', type='Food', properties={}), type='TRIED', properties={}), Relationship(source=Node(id='尾道', type='Location', properties={}), target=Node(id='乾物屋', type='Shop', properties={}), type='LOCATED_IN', properties={}), Relationship(source=Node(id='尾道', type='Location', properties={}), target=Node(id='海鮮', type='Food', properties={}), type='NOT_ABUNDANT', properties={}), Relationship(source=Node(id='乾物屋', type='Shop', properties={}), target=Node(id='海鮮', type='Food', properties={}), type='SELLS', properties={}), Relationship(source=Node(id='海鮮', type='Food', properties={}), target=Node(id='自転車の客', type='Person', properties={}), type='EXPECTED_BY', properties={})], source=Document(metadata={'source': '鉄道模型の夜.txt'}, page_content='全体が尾道に多少なりとも関係した文章全ての貯蔵庫のようなものとも思えてきて、どうも箱庭の中に箱庭をつくる男をみつけたような、箱庭の中でそれぞれに勝手な箱庭をつくり続ける人々だらけであるような、しかもその全員が、箱庭の趣旨を丁寧に解説しはじめるような、落ち着かなさが胸の奥から湧きかけるのを呑み込むのである。\\n\\n\\u3000世に、トマトスキヤキというものがあり、彼はこのレシピを尾道から持ち帰ることになるのだが、別段それをこの町で食べたというわけではなかった。町では店ごとに特徴の異なる尾道ラーメンを繰り返し食べ、オコゼの唐揚げを試してみたくらいにとどまる。海沿いに並ぶ乾物屋で土産などを物色しながら、海鮮が大々的に売り出されていないことに首を傾げ、自転車の客が見込めるだろうに、それらしい軽食処があまり見当たらな')),\n",
              " GraphDocument(nodes=[Node(id='Tomato Sukiyaki', type='Recipe', properties={}), Node(id='Lin Fumiko', type='Person', properties={})], relationships=[Relationship(source=Node(id='Tomato Sukiyaki', type='Recipe', properties={}), target=Node(id='Lin Fumiko', type='Person', properties={}), type='CREATOR', properties={})], source=Document(metadata={'source': '鉄道模型の夜.txt'}, page_content='にとどまる。海沿いに並ぶ乾物屋で土産などを物色しながら、海鮮が大々的に売り出されていないことに首を傾げ、自転車の客が見込めるだろうに、それらしい軽食処があまり見当たらないことを不思議に思った。\\n\\u3000トマトスキヤキに出会ったのは、林芙美子を検索してみた Wikipedia 上でのことであり、そこには、「昭和23年（１９４８年）の『主婦と生活』６月号」に「林芙美子のトマトのすき焼き」なるものの作り方が書かれていたのだと記されていた。それによると、薄く輪切りにしたトマトを、バターかラードで炒め、火が通ったならば肉を載せ、醤油と甘味料を加えるということである。トマトの旨味と割り下ということだから、試してみるかという気になったが、そのままというのも芸がないから、もう少しレシピを検討してみて、以下のようなものへと至った。\\n\\u3000輪切りにした玉�')),\n",
              " GraphDocument(nodes=[Node(id='トマト', type='食材', properties={}), Node(id='玉葱', type='食材', properties={}), Node(id='バジル', type='食材', properties={}), Node(id='牛肉', type='食材', properties={}), Node(id='溶き卵', type='食材', properties={}), Node(id='チキンヘッカ', type='料理', properties={}), Node(id='生姜', type='食材', properties={}), Node(id='林芙美子', type='人物', properties={}), Node(id='尾道', type='場所', properties={}), Node(id='商店街', type='場所', properties={})], relationships=[Relationship(source=Node(id='トマト', type='食材', properties={}), target=Node(id='玉葱', type='食材', properties={}), type='組み合わせ', properties={}), Relationship(source=Node(id='玉葱', type='食材', properties={}), target=Node(id='トマト', type='食材', properties={}), type='組み合わせ', properties={}), Relationship(source=Node(id='トマト', type='食材', properties={}), target=Node(id='割り下', type='食材', properties={}), type='組み合わせ', properties={}), Relationship(source=Node(id='玉葱', type='食材', properties={}), target=Node(id='割り下', type='食材', properties={}), type='組み合わせ', properties={}), Relationship(source=Node(id='割り下', type='食材', properties={}), target=Node(id='トマト', type='食材', properties={}), type='組み合わせ', properties={}), Relationship(source=Node(id='割り下', type='食材', properties={}), target=Node(id='玉葱', type='食材', properties={}), type='組み合わせ', properties={}), Relationship(source=Node(id='玉葱', type='食材', properties={}), target=Node(id='牛肉', type='食材', properties={}), type='組み合わせ', properties={}), Relationship(source=Node(id='トマト', type='食材', properties={}), target=Node(id='バジル', type='食材', properties={}), type='組み合わせ', properties={}), Relationship(source=Node(id='バジル', type='食材', properties={}), target=Node(id='トマト', type='食材', properties={}), type='組み合わせ', properties={}), Relationship(source=Node(id='玉葱', type='食材', properties={}), target=Node(id='牛肉', type='食材', properties={}), type='組み合わせ', properties={}), Relationship(source=Node(id='牛肉', type='食材', properties={}), target=Node(id='溶き卵', type='食材', properties={}), type='組み合わせ', properties={}), Relationship(source=Node(id='牛肉', type='食材', properties={}), target=Node(id='チキンヘッカ', type='料理', properties={}), type='組み合わせ', properties={}), Relationship(source=Node(id='チキンヘッカ', type='料理', properties={}), target=Node(id='生姜', type='食材', properties={}), type='組み合わせ', properties={}), Relationship(source=Node(id='尾道', type='場所', properties={}), target=Node(id='商店街', type='場所', properties={}), type='所在', properties={}), Relationship(source=Node(id='商店街', type='場所', properties={}), target=Node(id='尾道', type='場所', properties={}), type='所在', properties={}), Relationship(source=Node(id='尾道', type='場所', properties={}), target=Node(id='林芙美子', type='人物', properties={}), type='関連', properties={}), Relationship(source=Node(id='林芙美子', type='人物', properties={}), target=Node(id='尾道', type='場所', properties={}), type='関連', properties={})], source=Document(metadata={'source': '鉄道模型の夜.txt'}, page_content='とである。トマトの旨味と割り下ということだから、試してみるかという気になったが、そのままというのも芸がないから、もう少しレシピを検討してみて、以下のようなものへと至った。\\n\\u3000輪切りにした玉葱を炒めておいて、ついで、好きな形に切ったトマトを投入する。割り下を注ぎ好きなだけ煮て、バジルの葉をどさどさ入れる。溺れかけの玉葱やトマトの上に牛肉を広げ、溶き卵につけて食べる。\\n\\u3000なるほどうまいものだと考えながら、これはハワイで食べるのだというチキンヘッカの牛肉版ではないかと気づき、しかしチキンヘッカにはそれほど何も思うところがなかったという記憶がそこで蘇り、これは牛肉の力というものなのかどうなのか。いや、チキンヘッカは生姜で味つけするのであったかと記憶を探ることになった。\\n\\n\\u3000尾道で、林芙美子を調べたなりゆきというのはこうである。尾道の商店街の入り口には、�')),\n",
              " GraphDocument(nodes=[Node(id='尾道', type='Location', properties={}), Node(id='林芙美子', type='Person', properties={}), Node(id='旅行鞄', type='Object', properties={}), Node(id='蝙蝠傘', type='Object', properties={}), Node(id='携帯電話', type='Object', properties={}), Node(id='海', type='Location', properties={}), Node(id='放浪記', type='Book', properties={}), Node(id='中田貞雄', type='Person', properties={})], relationships=[Relationship(source=Node(id='尾道', type='Location', properties={}), target=Node(id='林芙美子', type='Person', properties={}), type='HAS_STATUE', properties={}), Relationship(source=Node(id='尾道', type='Location', properties={}), target=Node(id='旅行鞄', type='Object', properties={}), type='NEAR_STATUE', properties={}), Relationship(source=Node(id='尾道', type='Location', properties={}), target=Node(id='蝙蝠傘', type='Object', properties={}), type='NEAR_STATUE', properties={}), Relationship(source=Node(id='林芙美子', type='Person', properties={}), target=Node(id='携帯電話', type='Object', properties={}), type='HOLDING', properties={}), Relationship(source=Node(id='尾道', type='Location', properties={}), target=Node(id='海', type='Location', properties={}), type='VISIBLE_FROM_STATUE', properties={}), Relationship(source=Node(id='林芙美子', type='Person', properties={}), target=Node(id='放浪記', type='Book', properties={}), type='WROTE', properties={}), Relationship(source=Node(id='放浪記', type='Book', properties={}), target=Node(id='中田貞雄', type='Person', properties={}), type='MENTIONED_IN', properties={})], source=Document(metadata={'source': '鉄道模型の夜.txt'}, page_content='というものなのかどうなのか。いや、チキンヘッカは生姜で味つけするのであったかと記憶を探ることになった。\\n\\n\\u3000尾道で、林芙美子を調べたなりゆきというのはこうである。尾道の商店街の入り口には、傍らの旅行鞄に蝙蝠傘を立てかけしゃがむ、林芙美子像があるのであり、左手は携帯電話を持つかのように顔の横に添えられていて、はてどうしてこんなところに林芙美子が、と旧知に出会ったかのように振る舞うために検索をかけてみたからである。その銅像の手前には、\\n\\n海が見えた\\n\\u3000海が見える\\n五年振りに見る\\n尾道の海は\\n\\u3000\\u3000なつかしい\\n\\u3000\\u3000\\u3000林芙美子「放浪記」より\\n\\u3000\\u3000\\u3000中田貞雄書\\n\\n\\u3000という文章が四角い石に刻まれている。なるほどゆかりの人であったか、ということなのだが、林芙美子は『放浪記』を記したとおりに放浪の')),\n",
              " GraphDocument(nodes=[Node(id='中田貞雄', type='Person', properties={}), Node(id='林芙美子', type='Person', properties={})], relationships=[Relationship(source=Node(id='中田貞雄', type='Person', properties={}), target=Node(id='林芙美子', type='Person', properties={}), type='MENTIONED_IN', properties={})], source=Document(metadata={'source': '鉄道模型の夜.txt'}, page_content='「放浪記」より\\n\\u3000\\u3000\\u3000中田貞雄書\\n\\n\\u3000という文章が四角い石に刻まれている。なるほどゆかりの人であったか、ということなのだが、林芙美子は『放浪記』を記したとおりに放浪の人生を送った人なのであり、この土地にも各地を転々としたのち、十三歳でやってきた。以来、十九の年に恋人を追い上京するまでを尾道のあたりですごす。尾道時代を思い起こした文章などは貧困に追われる体で、明るい青春なる雰囲気のものではないのだが、その後も尾道へと戻っては文章を書いていたりするわけだから、当人の感覚としては書かれぬものもあったのだろうし、あえて書かなかったものがあったはずだし、書きえぬものがあったのだろうと思われた。\\n\\u3000とはいえ、林芙美子の歩いた道は国内のみにとどまらず、欧州へも及ぶわけだから、石像にはどこか、尾道から林芙美子への片思い')),\n",
              " GraphDocument(nodes=[Node(id='林芙美子', type='Person', properties={}), Node(id='欧州', type='Location', properties={}), Node(id='石像', type='Artifact', properties={}), Node(id='尾道', type='Location', properties={}), Node(id='箱庭', type='Concept', properties={}), Node(id='志賀直哉', type='Person', properties={}), Node(id='新宿区中井', type='Location', properties={})], relationships=[Relationship(source=Node(id='林芙美子', type='Person', properties={}), target=Node(id='尾道', type='Location', properties={}), type='VISITED', properties={}), Relationship(source=Node(id='林芙美子', type='Person', properties={}), target=Node(id='欧州', type='Location', properties={}), type='VISITED', properties={}), Relationship(source=Node(id='石像', type='Artifact', properties={}), target=Node(id='尾道', type='Location', properties={}), type='REPRESENTS_SENTIMENT', properties={}), Relationship(source=Node(id='尾道', type='Location', properties={}), target=Node(id='箱庭', type='Concept', properties={}), type='MENTIONED', properties={}), Relationship(source=Node(id='林芙美子', type='Person', properties={}), target=Node(id='志賀直哉', type='Person', properties={}), type='ASSOCIATED', properties={})], source=Document(metadata={'source': '鉄道模型の夜.txt'}, page_content='�きえぬものがあったのだろうと思われた。\\n\\u3000とはいえ、林芙美子の歩いた道は国内のみにとどまらず、欧州へも及ぶわけだから、石像にはどこか、尾道から林芙美子への片思いを思わせるものがあるのであり、林芙美子にとっては多くの場所のひとつであった尾道が、尾道の側から見ると世界全体へと広がってしまうようなところがある。\\n\\u3000なにか箱庭について大切なことを理解したつもりになって彼はメモを取り出すのだが、何かに気がついたという感覚が残っているだけで、言葉の方は出てこなかった。\\n\\n\\u3000尾道には、林芙美子と志賀直哉にちなむ建築物が存在する。林芙美子の記念館は新宿区中井にもあり、こちらの方が作家として身が立ったあとの住居であって安定感というものがある。志賀直哉というのも林芙美子とはまた違った意味で旅の人であったから')),\n",
              " GraphDocument(nodes=[Node(id='美子', type='Person', properties={}), Node(id='新宿区中井', type='Location', properties={}), Node(id='志賀直哉', type='Person', properties={}), Node(id='林芙美子', type='Person', properties={}), Node(id='千葉県我孫子', type='Location', properties={}), Node(id='奈良', type='Location', properties={}), Node(id='松江', type='Location', properties={}), Node(id='芥川龍之介', type='Person', properties={})], relationships=[Relationship(source=Node(id='美子', type='Person', properties={}), target=Node(id='新宿区中井', type='Location', properties={}), type='HAS_MEMORIAL_HALL', properties={}), Relationship(source=Node(id='美子', type='Person', properties={}), target=Node(id='志賀直哉', type='Person', properties={}), type='ACQUAINTANCE', properties={}), Relationship(source=Node(id='美子', type='Person', properties={}), target=Node(id='林芙美子', type='Person', properties={}), type='ACQUAINTANCE', properties={}), Relationship(source=Node(id='美子', type='Person', properties={}), target=Node(id='千葉県我孫子', type='Location', properties={}), type='MENTIONED_IN_WORK', properties={}), Relationship(source=Node(id='千葉県我孫子', type='Location', properties={}), target=Node(id='奈良', type='Location', properties={}), type='MENTIONED_IN_WORK', properties={}), Relationship(source=Node(id='奈良', type='Location', properties={}), target=Node(id='志賀直哉', type='Person', properties={}), type='RESIDED_IN', properties={}), Relationship(source=Node(id='松江', type='Location', properties={}), target=Node(id='志賀直哉', type='Person', properties={}), type='VISITED', properties={}), Relationship(source=Node(id='松江', type='Location', properties={}), target=Node(id='芥川龍之介', type='Person', properties={}), type='VISITED', properties={})], source=Document(metadata={'source': '鉄道模型の夜.txt'}, page_content='�美子の記念館は新宿区中井にもあり、こちらの方が作家として身が立ったあとの住居であって安定感というものがある。志賀直哉というのも林芙美子とはまた違った意味で旅の人であったから、これは関連施設がどれほどあるのかさえよくわからない。尾道時代に構想がはじまる『暗夜行路』は千葉県我孫子でも書き継がれ、完結するのは奈良の志賀直哉旧居でのことであり、松江では志賀直哉が滞在した家にまた芥川龍之介がすごすということなども起こって、エピソードを拾って歩くだけでも大ごととなる。\\n\\u3000記念館といえば建物だからまだしもとして、人物の像というのはひそかに増殖をするものであり、そういえば鹿児島へ取材へ行ったときにも林芙美子に出会ったような記憶がようやく蘇り、あちらは立ち姿であったのではないかと思う。なぜ鹿')),\n",
              " GraphDocument(nodes=[Node(id='林芙美子', type='Person', properties={}), Node(id='鹿児島', type='Location', properties={}), Node(id='母親', type='Person', properties={})], relationships=[Relationship(source=Node(id='林芙美子', type='Person', properties={}), target=Node(id='鹿児島', type='Location', properties={}), type='BORN_IN', properties={}), Relationship(source=Node(id='林芙美子', type='Person', properties={}), target=Node(id='母親', type='Person', properties={}), type='RELATIVE', properties={})], source=Document(metadata={'source': '鉄道模型の夜.txt'}, page_content='はひそかに増殖をするものであり、そういえば鹿児島へ取材へ行ったときにも林芙美子に出会ったような記憶がようやく蘇り、あちらは立ち姿であったのではないかと思う。なぜ鹿児島にというのは、林芙美子の本籍地がそこにあり、母親の故郷であったとかなにかそういう理由であったはずである。近くには少女時代の林芙美子像が腰かけていて、異なる時代の同一人物の像が同じところに並ぶということが、当然のようにそこでは起こっていたのであり、彼を不安にさせたのである。\\n\\u3000どうしても各個の像がそこから独自に生活を開始していくという情景が浮かび、一人の作家の人生が次々と分岐をしては同じような人生をまた繰り返すという不幸がそこで増殖してしまう。なぜなら像をつくられるような作家は作家として死んだ人物であり、別の人生とは言い条、あるときふと作家をやめ')),\n",
              " GraphDocument(nodes=[Node(id='作家', type='Person', properties={}), Node(id='パン屋', type='Person', properties={})], relationships=[Relationship(source=Node(id='作家', type='Person', properties={}), target=Node(id='パン屋', type='Person', properties={}), type='COLLEAGUE', properties={})], source=Document(metadata={'source': '鉄道模型の夜.txt'}, page_content='�々と分岐をしては同じような人生をまた繰り返すという不幸がそこで増殖してしまう。なぜなら像をつくられるような作家は作家として死んだ人物であり、別の人生とは言い条、あるときふと作家をやめたりはできないわけで、あくまでも作家の枠にとらわれてしまいそうだからである。像になることのない人間の生はわざわざ分岐などせずとも自由で、時間の中を好きな方へ歩いていけばよいだけなのだが、像は複製だってきくうえに、全く異なる像同士が同一人物であるという奇妙な事態が生じ得て、取材のあとには箱庭へ、小さな人影を多数配置することになる彼としては様々思うことがあるわけなのだが、町の並びに現れた「パン屋航路」の看板に物思いも吹き飛んでしまい、それはなにかと問われても、パン屋以外のなにものでもない。\\n\\n\\u3000これはのちに彼が家族と、トマトスキヤキをつついているときに判明した�')),\n",
              " GraphDocument(nodes=[Node(id='パン屋航路', type='Place', properties={}), Node(id='トマトスキヤキ', type='Food', properties={}), Node(id='自転車乗り', type='Person', properties={})], relationships=[Relationship(source=Node(id='パン屋航路', type='Place', properties={}), target=Node(id='パン屋', type='Place', properties={}), type='HAS_SIGN', properties={}), Relationship(source=Node(id='自転車乗り', type='Person', properties={}), target=Node(id='トマトスキヤキ', type='Food', properties={}), type='EATS', properties={}), Relationship(source=Node(id='自転車乗り', type='Person', properties={}), target=Node(id='自転車', type='Object', properties={}), type='RIDES', properties={})], source=Document(metadata={'source': '鉄道模型の夜.txt'}, page_content='びに現れた「パン屋航路」の看板に物思いも吹き飛んでしまい、それはなにかと問われても、パン屋以外のなにものでもない。\\n\\n\\u3000これはのちに彼が家族と、トマトスキヤキをつついているときに判明した話なのだが、自転車乗りという人々には、決まった食事の取り方というものがあるらしい。日に１００キロを走るというような人々の間にあっては、ここで止まってジュースを一杯、あちらで止まって唐揚げをというような栄養補給はもっての外で、適度に水分を補給しつつ決められた燃料を消費していくというストイックさが必要らしい。自転車乗りの本分は自転車に乗り続けることにあり、観光にうつつを抜かすことにはないのである。明日どれだけ走ることができるかをかけ、早目に就寝することになり、陽が昇る頃、その姿はすでに車上だ。なるほどすると、自転車乗りたちが集う盛り場というようなものは�')),\n",
              " GraphDocument(nodes=[Node(id='自転車乗り', type='Person', properties={}), Node(id='レモン', type='Product', properties={}), Node(id='島', type='Location', properties={}), Node(id='尾道', type='Location', properties={}), Node(id='瀬戸田', type='Location', properties={}), Node(id='柑橘類', type='Product', properties={})], relationships=[Relationship(source=Node(id='自転車乗り', type='Person', properties={}), target=Node(id='島', type='Location', properties={}), type='VISITED', properties={}), Relationship(source=Node(id='自転車乗り', type='Person', properties={}), target=Node(id='尾道', type='Location', properties={}), type='CHOSE_FOR_REPORTING', properties={}), Relationship(source=Node(id='自転車乗り', type='Person', properties={}), target=Node(id='瀬戸田', type='Location', properties={}), type='DESTINATION', properties={}), Relationship(source=Node(id='自転車乗り', type='Person', properties={}), target=Node(id='レモン', type='Product', properties={}), type='SOUGHT', properties={})], source=Document(metadata={'source': '鉄道模型の夜.txt'}, page_content='�かすことにはないのである。明日どれだけ走ることができるかをかけ、早目に就寝することになり、陽が昇る頃、その姿はすでに車上だ。なるほどすると、自転車乗りたちが集う盛り場というようなものは形成されにくそうに聞こえてくる。\\n\\u3000実際、レモンを求めて島を歩き続けてみても、特に自転車宿とでも呼ぶべきものは見当たらず、島をひとつひとつ巡りつつ美味いものを食べ歩くというようなスタイルはあまり想定されていないようである。\\n\\u3000彼が尾道を取材先に選んだ理由に、レモンの一大生産地であるというものがあるのは先にも触れたが、これは主に島で生産されているものらしく、駅前のフェリー乗り場から、瀬戸田を目指すことにした。島へ降りれば一面のレモン畑、ということはなく、適当に見当をつけて歩きはじめると、様々の柑橘類の低木が現れるのだが、彼にはそれらの区別がつ')),\n",
              " GraphDocument(nodes=[Node(id='瀬戸田', type='Location', properties={}), Node(id='島', type='Location', properties={}), Node(id='レモン', type='Fruit', properties={}), Node(id='柑橘類', type='Fruit', properties={}), Node(id='生口島', type='Location', properties={})], relationships=[Relationship(source=Node(id='瀬戸田', type='Location', properties={}), target=Node(id='島', type='Location', properties={}), type='TRAVEL_TO', properties={}), Relationship(source=Node(id='島', type='Location', properties={}), target=Node(id='レモン', type='Fruit', properties={}), type='GROWING', properties={}), Relationship(source=Node(id='島', type='Location', properties={}), target=Node(id='柑橘類', type='Fruit', properties={}), type='GROWING', properties={}), Relationship(source=Node(id='島', type='Location', properties={}), target=Node(id='生口島', type='Location', properties={}), type='LEMON_REGION', properties={})], source=Document(metadata={'source': '鉄道模型の夜.txt'}, page_content='�から、瀬戸田を目指すことにした。島へ降りれば一面のレモン畑、ということはなく、適当に見当をつけて歩きはじめると、様々の柑橘類の低木が現れるのだが、彼にはそれらの区別がつかない。実際のところ、当の柑橘たち自身にも区別がついているのか彼はやや疑いを抱いているのであり、こう近くに多種が混ざって植えられていると、やがて一様なものになってしまうのではないかと思ったりする。それでも島の地域によってどの柑橘が優勢かという区分は存在するらしく、レモンの地域は生口島いくちじまということになるようなのだが、なかなかその姿は見えないのである。レモンを求めて島を歩いているうちに、やはり旅は箱庭の中でするものだと彼は思って、自分のつくる箱庭では、レモンを駅の近くとまでは言わずとも、対岸の島あたりに植えようと思う。\\n\\n\\u3000彼の撮った写真の中では、\\n\\n�')),\n",
              " GraphDocument(nodes=[Node(id='旅', type='Concept', properties={}), Node(id='箱庭', type='Concept', properties={}), Node(id='彼', type='Person', properties={}), Node(id='レモン', type='Concept', properties={}), Node(id='駅', type='Location', properties={}), Node(id='対岸の島', type='Location', properties={}), Node(id='尾道駅構内221K508M', type='Location', properties={}), Node(id='持光寺前踏切', type='Location', properties={}), Node(id='連絡先 岡山電気指令信通指令室', type='Location', properties={}), Node(id='白い看板', type='Object', properties={}), Node(id='信号', type='Object', properties={}), Node(id='線路', type='Location', properties={}), Node(id='道', type='Location', properties={}), Node(id='階段', type='Location', properties={}), Node(id='一里塚地下道', type='Location', properties={}), Node(id='東今の２踏切', type='Location', properties={}), Node(id='千光寺前踏切', type='Location', properties={}), Node(id='歩道橋', type='Location', properties={}), Node(id='海', type='Location', properties={})], relationships=[Relationship(source=Node(id='彼', type='Person', properties={}), target=Node(id='旅', type='Concept', properties={}), type='THINKS', properties={}), Relationship(source=Node(id='彼', type='Person', properties={}), target=Node(id='箱庭', type='Concept', properties={}), type='THINKS', properties={}), Relationship(source=Node(id='彼', type='Person', properties={}), target=Node(id='レモン', type='Concept', properties={}), type='PLANTS_NEAR', properties={}), Relationship(source=Node(id='レモン', type='Concept', properties={}), target=Node(id='駅', type='Location', properties={}), type='PLANTS_NEAR', properties={}), Relationship(source=Node(id='レモン', type='Concept', properties={}), target=Node(id='対岸の島', type='Location', properties={}), type='PLANTS_NEAR', properties={}), Relationship(source=Node(id='白い看板', type='Object', properties={}), target=Node(id='持光寺前踏切', type='Location', properties={}), type='LOCATED_AT', properties={}), Relationship(source=Node(id='白い看板', type='Object', properties={}), target=Node(id='信号', type='Object', properties={}), type='LOCATED_AT', properties={}), Relationship(source=Node(id='道', type='Location', properties={}), target=Node(id='階段', type='Location', properties={}), type='LEADS_TO', properties={}), Relationship(source=Node(id='階段', type='Location', properties={}), target=Node(id='線路', type='Location', properties={}), type='LEADS_TO', properties={}), Relationship(source=Node(id='線路', type='Location', properties={}), target=Node(id='持光寺前踏切', type='Location', properties={}), type='CROSSES', properties={}), Relationship(source=Node(id='持光寺前踏切', type='Location', properties={}), target=Node(id='白い看板', type='Object', properties={}), type='LOCATED_UNDER', properties={}), Relationship(source=Node(id='持光寺前踏切', type='Location', properties={}), target=Node(id='道', type='Location', properties={}), type='LEADS_TO', properties={}), Relationship(source=Node(id='道', type='Location', properties={}), target=Node(id='階段', type='Location', properties={}), type='LEADS_TO', properties={}), Relationship(source=Node(id='階段', type='Location', properties={}), target=Node(id='線路', type='Location', properties={}), type='LEADS_TO', properties={}), Relationship(source=Node(id='線路', type='Location', properties={}), target=Node(id='道', type='Location', properties={}), type='CROSSES', properties={}), Relationship(source=Node(id='千光寺前踏切', type='Location', properties={}), target=Node(id='階段', type='Location', properties={}), type='LEADS_TO', properties={}), Relationship(source=Node(id='階段', type='Location', properties={}), target=Node(id='線路', type='Location', properties={}), type='LEADS_TO', properties={}), Relationship(source=Node(id='線路', type='Location', properties={}), target=Node(id='階段', type='Location', properties={}), type='CROSSES', properties={}), Relationship(source=Node(id='歩道橋', type='Location', properties={}), target=Node(id='線路', type='Location', properties={}), type='CROSSES', properties={}), Relationship(source=Node(id='線路', type='Location', properties={}), target=Node(id='海', type='Location', properties={}), type='SEEN_FROM', properties={})], source=Document(metadata={'source': '鉄道模型の夜.txt'}, page_content='るうちに、やはり旅は箱庭の中でするものだと彼は思って、自分のつくる箱庭では、レモンを駅の近くとまでは言わずとも、対岸の島あたりに植えようと思う。\\n\\n\\u3000彼の撮った写真の中では、\\n\\n尾道駅構内221K508M\\n持光寺前踏切\\n連絡先\\u3000岡山電気指令信通指令室\\n\\n\\u3000と横書きされた白い看板が踏切の信号の下にあり、線路を越えた道はすぐさま階段へ続いている。そのあとにも、「一里塚地下道」、「東今の２踏切」、「千光寺前踏切」などなどが続く。千光寺前踏切では、まず階段をのぼって線路と同じ高さまで行き、線路を越えてまた階段をのぼるという道筋になる。歩道橋で越えるつくりもあれば、線路の下をくぐる配置もあって、目線と線路の高さが同じになり、向こうへ海が見えるということなども起こる。\\n')),\n",
              " GraphDocument(nodes=[Node(id='階段', type='物体', properties={}), Node(id='道筋', type='概念', properties={}), Node(id='歩道橋', type='物体', properties={}), Node(id='線路', type='物体', properties={}), Node(id='目線', type='概念', properties={}), Node(id='海', type='概念', properties={}), Node(id='久保八幡神社', type='場所', properties={}), Node(id='参道入り口', type='物体', properties={}), Node(id='鳥居', type='物体', properties={}), Node(id='大通り', type='物体', properties={}), Node(id='踏切', type='物体', properties={}), Node(id='本殿', type='物体', properties={}), Node(id='八朔入りの大福', type='物体', properties={}), Node(id='ジーンズ', type='物体', properties={}), Node(id='トレーナー', type='物体', properties={}), Node(id='カメラ', type='物体', properties={}), Node(id='男', type='人物', properties={})], relationships=[Relationship(source=Node(id='階段', type='物体', properties={}), target=Node(id='道筋', type='概念', properties={}), type='LEADS_TO', properties={}), Relationship(source=Node(id='歩道橋', type='物体', properties={}), target=Node(id='線路', type='物体', properties={}), type='CROSSES_OVER', properties={}), Relationship(source=Node(id='線路', type='物体', properties={}), target=Node(id='目線', type='概念', properties={}), type='SAME_HEIGHT_AS', properties={}), Relationship(source=Node(id='目線', type='概念', properties={}), target=Node(id='海', type='概念', properties={}), type='SEES', properties={}), Relationship(source=Node(id='久保八幡神社', type='場所', properties={}), target=Node(id='参道入り口', type='物体', properties={}), type='HAS_GATEWAY', properties={}), Relationship(source=Node(id='参道入り口', type='物体', properties={}), target=Node(id='鳥居', type='物体', properties={}), type='PASS_THROUGH', properties={}), Relationship(source=Node(id='鳥居', type='物体', properties={}), target=Node(id='大通り', type='物体', properties={}), type='ENCOUNTERS', properties={}), Relationship(source=Node(id='大通り', type='物体', properties={}), target=Node(id='階段', type='物体', properties={}), type='LEADS_TO', properties={}), Relationship(source=Node(id='階段', type='物体', properties={}), target=Node(id='踏切', type='物体', properties={}), type='LEADS_TO', properties={}), Relationship(source=Node(id='踏切', type='物体', properties={}), target=Node(id='線路', type='物体', properties={}), type='CROSSES', properties={}), Relationship(source=Node(id='線路', type='物体', properties={}), target=Node(id='鳥居', type='物体', properties={}), type='OPPOSITE_GATEWAY', properties={}), Relationship(source=Node(id='鳥居', type='物体', properties={}), target=Node(id='本殿', type='物体', properties={}), type='LEADS_TO', properties={}), Relationship(source=Node(id='鳥居', type='物体', properties={}), target=Node(id='踏切', type='物体', properties={}), type='SEES', properties={}), Relationship(source=Node(id='踏切', type='物体', properties={}), target=Node(id='鳥居', type='物体', properties={}), type='STANDS', properties={}), Relationship(source=Node(id='鳥居', type='物体', properties={}), target=Node(id='本殿', type='物体', properties={}), type='OVERLOOKS', properties={}), Relationship(source=Node(id='本殿', type='物体', properties={}), target=Node(id='八朔入りの大福', type='物体', properties={}), type='PURCHASES', properties={}), Relationship(source=Node(id='八朔入りの大福', type='物体', properties={}), target=Node(id='男', type='人物', properties={}), type='WALKS_PAST', properties={}), Relationship(source=Node(id='男', type='人物', properties={}), target=Node(id='ジーンズ', type='物体', properties={}), type='WEARS', properties={}), Relationship(source=Node(id='男', type='人物', properties={}), target=Node(id='トレーナー', type='物体', properties={}), type='WEARS', properties={}), Relationship(source=Node(id='男', type='人物', properties={}), target=Node(id='カメラ', type='物体', properties={}), type='CARRIES', properties={}), Relationship(source=Node(id='男', type='人物', properties={}), target=Node(id='彼', type='人物', properties={}), type='WATCHES', properties={})], source=Document(metadata={'source': '鉄道模型の夜.txt'}, page_content='�てまた階段をのぼるという道筋になる。歩道橋で越えるつくりもあれば、線路の下をくぐる配置もあって、目線と線路の高さが同じになり、向こうへ海が見えるということなども起こる。\\n\\u3000久保八幡神社では、参道入り口の鳥居を抜けて進むとまず、大通りにでくわすことになるのであり、そこから階段をのぼった先には踏切があり、線路を横切った向こうにまた鳥居があって本殿があるという構成になる。鳥居の向こうへ踏切が見え、また鳥居が立ち、本殿までを見通すという構図となって、これは彼の箱庭に取り入れられている。\\n\\u3000八朔入りの大福などを買い求め、食べ歩く彼のすぐ前を、ジーンズにトレーナー姿でカメラをたすき掛けした男が歩いていくのを彼は見つめて、果たして以前に、こうして自分の背中をまじまじと見つめたことがあったかなと彼は考え、そ')),\n",
              " GraphDocument(nodes=[Node(id='男', type='Person', properties={}), Node(id='自分', type='Person', properties={}), Node(id='町', type='Location', properties={}), Node(id='海辺', type='Location', properties={}), Node(id='海', type='Location', properties={}), Node(id='水', type='Location', properties={}), Node(id='箱庭の山', type='Location', properties={}), Node(id='桜', type='Plant', properties={}), Node(id='レモン', type='Plant', properties={}), Node(id='瀬戸内海', type='Location', properties={})], relationships=[Relationship(source=Node(id='男', type='Person', properties={}), target=Node(id='自分', type='Person', properties={}), type='ACCOMPANIED', properties={}), Relationship(source=Node(id='自分', type='Person', properties={}), target=Node(id='町', type='Location', properties={}), type='IN', properties={}), Relationship(source=Node(id='自分', type='Person', properties={}), target=Node(id='海辺', type='Location', properties={}), type='IN', properties={}), Relationship(source=Node(id='自分', type='Person', properties={}), target=Node(id='海', type='Location', properties={}), type='IN', properties={}), Relationship(source=Node(id='水', type='Location', properties={}), target=Node(id='自分', type='Person', properties={}), type='REJECTED', properties={}), Relationship(source=Node(id='自分', type='Person', properties={}), target=Node(id='箱庭の山', type='Location', properties={}), type='CREATE', properties={}), Relationship(source=Node(id='桜', type='Plant', properties={}), target=Node(id='箱庭の山', type='Location', properties={}), type='DECORATE', properties={}), Relationship(source=Node(id='レモン', type='Plant', properties={}), target=Node(id='対岸', type='Location', properties={}), type='DECORATE', properties={}), Relationship(source=Node(id='瀬戸内海', type='Location', properties={}), target=Node(id='箱庭の山', type='Location', properties={}), type='NEAR', properties={})], source=Document(metadata={'source': '鉄道模型の夜.txt'}, page_content='、食べ歩く彼のすぐ前を、ジーンズにトレーナー姿でカメラをたすき掛けした男が歩いていくのを彼は見つめて、果たして以前に、こうして自分の背中をまじまじと見つめたことがあったかなと彼は考え、それが取材中の自分であることには、疑いさえも浮かばない。あれが数時間前の自分であるのか、数時間後の自分であるのかは、まあ些細な問題だといえ、今こうして歩くこの町には、この自分と同じ姿の自分がたくさん歩き回っているのだろうと思う。そのあとについて歩いていくと、むこうの自分は夜の海辺にたどり着いており、無造作に柵を越えると、そのまま海へと飛び降りてしまう。水は彼を受け入れず、向こうの自分は平気な様子でそのまま海面を歩いていくのだ。\\n\\n\\u3000のちに彼のつくることになる箱庭の山は美しく桜に彩られ、対岸にはレモンの黄色が鮮やかで、瀬戸内海の�')),\n",
              " GraphDocument(nodes=[Node(id='自分', type='Person', properties={}), Node(id='海面', type='Location', properties={}), Node(id='箱庭', type='Location', properties={}), Node(id='山', type='Location', properties={}), Node(id='桜', type='Plant', properties={}), Node(id='対岸', type='Location', properties={}), Node(id='レモン', type='Plant', properties={}), Node(id='瀬戸内海', type='Location', properties={}), Node(id='夜', type='Time', properties={}), Node(id='朝', type='Time', properties={}), Node(id='携帯電話', type='Device', properties={}), Node(id='蝙蝠傘', type='Object', properties={}), Node(id='鞄', type='Object', properties={}), Node(id='駅舎', type='Location', properties={}), Node(id='林芙美子像', type='Person', properties={}), Node(id='町', type='Location', properties={}), Node(id='志賀直哉', type='Person', properties={}), Node(id='パン', type='Food', properties={})], relationships=[Relationship(source=Node(id='自分', type='Person', properties={}), target=Node(id='海面', type='Location', properties={}), type='WALKING', properties={}), Relationship(source=Node(id='箱庭', type='Location', properties={}), target=Node(id='山', type='Location', properties={}), type='CONTAINS', properties={}), Relationship(source=Node(id='山', type='Location', properties={}), target=Node(id='桜', type='Plant', properties={}), type='DECORATED_WITH', properties={}), Relationship(source=Node(id='対岸', type='Location', properties={}), target=Node(id='レモン', type='Plant', properties={}), type='DECORATED_WITH', properties={}), Relationship(source=Node(id='瀬戸内海', type='Location', properties={}), target=Node(id='夜', type='Time', properties={}), type='EAST_SIDE', properties={}), Relationship(source=Node(id='瀬戸内海', type='Location', properties={}), target=Node(id='朝', type='Time', properties={}), type='WEST_SIDE', properties={}), Relationship(source=Node(id='箱庭', type='Location', properties={}), target=Node(id='夜', type='Time', properties={}), type='VISITS', properties={}), Relationship(source=Node(id='携帯電話', type='Device', properties={}), target=Node(id='蝙蝠傘', type='Object', properties={}), type='CARRYING', properties={}), Relationship(source=Node(id='携帯電話', type='Device', properties={}), target=Node(id='鞄', type='Object', properties={}), type='CARRYING', properties={}), Relationship(source=Node(id='林芙美子像', type='Person', properties={}), target=Node(id='駅舎', type='Location', properties={}), type='HEADING_TO', properties={}), Relationship(source=Node(id='箱庭', type='Location', properties={}), target=Node(id='町', type='Location', properties={}), type='CONTAINS', properties={}), Relationship(source=Node(id='町', type='Location', properties={}), target=Node(id='志賀直哉', type='Person', properties={}), type='RESIDING_IN', properties={}), Relationship(source=Node(id='志賀直哉', type='Person', properties={}), target=Node(id='パン', type='Food', properties={}), type='BUYING', properties={})], source=Document(metadata={'source': '鉄道模型の夜.txt'}, page_content='�入れず、向こうの自分は平気な様子でそのまま海面を歩いていくのだ。\\n\\n\\u3000のちに彼のつくることになる箱庭の山は美しく桜に彩られ、対岸にはレモンの黄色が鮮やかで、瀬戸内海の東側では陽が暮れはじめ、西側では夜が明けかけており、海は朝からその朝へと続く夜へと向かって流れていく。箱庭の中に夜が訪れ、そこには、携帯電話での通話を終えて、蝙蝠傘と鞄を提げて立ち上がり、駅舎へ向かう林芙美子像の姿がある。出て行かせるのはまずいかとも思ったのだが、彼女はまたここへ帰ってくるに決まっているのだと思い直した。\\n\\u3000箱庭には町を歩き回る数人の志賀直哉も配置されていて、その全員が街角でパンを買い求め、自作のタイトルを『パン屋航路』に改めようかと考えている。\\n\\u3000波止場には海へと向けて駆け')),\n",
              " GraphDocument(nodes=[Node(id='志賀直哉', type='Person', properties={}), Node(id='少年', type='Person', properties={}), Node(id='レモン', type='Object', properties={}), Node(id='クレーン', type='Object', properties={}), Node(id='怪獣', type='Object', properties={}), Node(id='爆弾', type='Object', properties={}), Node(id='海', type='Location', properties={}), Node(id='レジン', type='Object', properties={}), Node(id='林芙美子', type='Person', properties={}), Node(id='夜汽車', type='Object', properties={})], relationships=[Relationship(source=Node(id='志賀直哉', type='Person', properties={}), target=Node(id='パン', type='Object', properties={}), type='PURCHASED', properties={}), Relationship(source=Node(id='少年', type='Person', properties={}), target=Node(id='レモン', type='Object', properties={}), type='HOLDING', properties={}), Relationship(source=Node(id='少年', type='Person', properties={}), target=Node(id='クレーン', type='Object', properties={}), type='VIEWING_AS', properties={}), Relationship(source=Node(id='少年', type='Person', properties={}), target=Node(id='怪獣', type='Object', properties={}), type='VIEWING_AS', properties={}), Relationship(source=Node(id='少年', type='Person', properties={}), target=Node(id='爆弾', type='Object', properties={}), type='INTENDING_TO_USE', properties={}), Relationship(source=Node(id='少年', type='Person', properties={}), target=Node(id='海', type='Location', properties={}), type='PLACING_MINIATURE', properties={}), Relationship(source=Node(id='少年', type='Person', properties={}), target=Node(id='レジン', type='Object', properties={}), type='MATERIAL_USED', properties={}), Relationship(source=Node(id='少年', type='Person', properties={}), target=Node(id='林芙美子', type='Person', properties={}), type='IMAGINING', properties={}), Relationship(source=Node(id='夜汽車', type='Object', properties={}), target=Node(id='林芙美子', type='Person', properties={}), type='BOARDING', properties={})], source=Document(metadata={'source': '鉄道模型の夜.txt'}, page_content='回る数人の志賀直哉も配置されていて、その全員が街角でパンを買い求め、自作のタイトルを『パン屋航路』に改めようかと考えている。\\n\\u3000波止場には海へと向けて駆け出している少年があり、その手にはレモンが握られている。彼は、港のクレーンを巨大怪獣とみなして、爆弾を投げつけようとしているところだ。\\n\\u3000そうして彼は、レジンで作った海の上へとミニチュアの彼の姿を置いて、これで辻褄は合ったのだろうかと少し考える。辻褄を合わせたからなんなのだと可笑しくなって笑い出す。\\n\\u3000彼は箱庭の線路の上へ、箱庭の果てから夜汽車を送り、林芙美子がその客車へと、一人乗り込む姿を想像している。\\n（了）'))]"
            ]
          },
          "metadata": {},
          "execution_count": 8
        }
      ]
    },
    {
      "cell_type": "code",
      "source": [
        "graph = Neo4jGraph()"
      ],
      "metadata": {
        "id": "DwSUCQSYfOL4"
      },
      "execution_count": null,
      "outputs": []
    },
    {
      "cell_type": "code",
      "source": [
        "graph.add_graph_documents(\n",
        "    graph_documents,\n",
        "    baseEntityLabel=True,\n",
        "    include_source=True\n",
        ")"
      ],
      "metadata": {
        "id": "yYTsmln33_fk"
      },
      "execution_count": null,
      "outputs": []
    },
    {
      "cell_type": "code",
      "source": [
        "# directly show the graph resulting from the given Cypher query\n",
        "default_cypher = \"MATCH (s)-[r:!MENTIONS]->(t) RETURN s,r,t LIMIT 50\"\n",
        "\n",
        "def showGraph(cypher: str = default_cypher):\n",
        "    # create a neo4j session to run queries\n",
        "    driver = GraphDatabase.driver(\n",
        "        uri = os.environ[\"NEO4J_URI\"],\n",
        "        auth = (os.environ[\"NEO4J_USERNAME\"],\n",
        "                os.environ[\"NEO4J_PASSWORD\"]))\n",
        "    session = driver.session()\n",
        "    widget = GraphWidget(graph = session.run(cypher).graph())\n",
        "    widget.node_label_mapping = 'id'\n",
        "    #display(widget)\n",
        "    return widget"
      ],
      "metadata": {
        "id": "6ZSX8NVV4DJy"
      },
      "execution_count": null,
      "outputs": []
    },
    {
      "cell_type": "markdown",
      "source": [
        "グラフの表示"
      ],
      "metadata": {
        "id": "1wPR0holN5h8"
      }
    },
    {
      "cell_type": "code",
      "source": [
        "showGraph()"
      ],
      "metadata": {
        "id": "TnoV7_TNGh8m",
        "colab": {
          "base_uri": "https://localhost:8080/",
          "height": 817,
          "referenced_widgets": [
            "ea3a4d684fb743cf91ee127b8f19e787",
            "0c9cd3e1679d4df6815f4b24608c3909"
          ]
        },
        "outputId": "c76cda0f-1f29-4afa-82ae-43a049eca34e"
      },
      "execution_count": null,
      "outputs": [
        {
          "output_type": "display_data",
          "data": {
            "text/plain": [
              "GraphWidget(layout=Layout(height='800px', width='100%'))"
            ],
            "application/vnd.jupyter.widget-view+json": {
              "version_major": 2,
              "version_minor": 0,
              "model_id": "ea3a4d684fb743cf91ee127b8f19e787"
            }
          },
          "metadata": {
            "application/vnd.jupyter.widget-view+json": {
              "colab": {
                "custom_widget_manager": {
                  "url": "https://ssl.gstatic.com/colaboratory-static/widgets/colab-cdn-widget-manager/2b70e893a8ba7c0f/manager.min.js"
                }
              }
            }
          }
        }
      ]
    },
    {
      "cell_type": "markdown",
      "source": [
        "ハイブリッド検索の準備"
      ],
      "metadata": {
        "id": "kOHw8O6tOAHe"
      }
    },
    {
      "cell_type": "code",
      "source": [
        "vector_index = Neo4jVector.from_existing_graph(\n",
        "    OpenAIEmbeddings(),\n",
        "    search_type=\"hybrid\",\n",
        "    node_label=\"Document\",\n",
        "    text_node_properties=[\"text\"],\n",
        "    embedding_node_property=\"embedding\"\n",
        ")"
      ],
      "metadata": {
        "id": "sW1eooLP44bL"
      },
      "execution_count": null,
      "outputs": []
    },
    {
      "cell_type": "code",
      "source": [
        "graph.query(\"CREATE FULLTEXT INDEX entity IF NOT EXISTS FOR (e:__Entity__) ON EACH [e.id]\")"
      ],
      "metadata": {
        "colab": {
          "base_uri": "https://localhost:8080/"
        },
        "id": "chRaUwyJpw5c",
        "outputId": "9ebb0804-284c-452f-e785-e615dde627bf"
      },
      "execution_count": null,
      "outputs": [
        {
          "output_type": "execute_result",
          "data": {
            "text/plain": [
              "[]"
            ]
          },
          "metadata": {},
          "execution_count": 32
        }
      ]
    },
    {
      "cell_type": "code",
      "source": [
        "# Extract entities from text\n",
        "class Entities(BaseModel):\n",
        "    \"\"\"Identifying information about entities.\"\"\"\n",
        "\n",
        "    names: List[str] = Field(\n",
        "        ...,\n",
        "        description=\"All the person, organization, or business entities that \"\n",
        "        \"appear in the text\",\n",
        "    )"
      ],
      "metadata": {
        "id": "SVRIkn4O5P8O"
      },
      "execution_count": null,
      "outputs": []
    },
    {
      "cell_type": "code",
      "source": [
        "prompt = ChatPromptTemplate.from_messages(\n",
        "    [\n",
        "        (\n",
        "            \"system\",\n",
        "            \"You are extracting organization and person entities from the text.\",\n",
        "        ),\n",
        "        (\n",
        "            \"human\",\n",
        "            \"Use the given format to extract information from the following \"\n",
        "            \"input: {question}\",\n",
        "        ),\n",
        "    ]\n",
        ")\n",
        "\n",
        "entity_chain = prompt | llm.with_structured_output(Entities)"
      ],
      "metadata": {
        "id": "UjvFxY9L5QFY"
      },
      "execution_count": null,
      "outputs": []
    },
    {
      "cell_type": "code",
      "source": [],
      "metadata": {
        "id": "nieBfUtIhDxj"
      },
      "execution_count": null,
      "outputs": []
    },
    {
      "cell_type": "code",
      "source": [
        "def generate_full_text_query(input: str) -> str:\n",
        "    \"\"\"\n",
        "    Generate a full-text search query for a given input string.\n",
        "\n",
        "    This function constructs a query string suitable for a full-text search.\n",
        "    It processes the input string by splitting it into words and appending a\n",
        "    similarity threshold (~2 changed characters) to each word, then combines\n",
        "    them using the AND operator. Useful for mapping entities from user questions\n",
        "    to database values, and allows for some misspelings.\n",
        "    \"\"\"\n",
        "    full_text_query = \"\"\n",
        "    words = [el for el in remove_lucene_chars(input).split() if el]\n",
        "    for word in words[:-1]:\n",
        "        full_text_query += f\" {word}~2 AND\"\n",
        "    full_text_query += f\" {words[-1]}~2\"\n",
        "    return full_text_query.strip()\n",
        "\n",
        "# Fulltext index query\n",
        "def structured_retriever(question: str) -> str:\n",
        "    \"\"\"\n",
        "    Collects the neighborhood of entities mentioned\n",
        "    in the question\n",
        "    \"\"\"\n",
        "    result = \"\"\n",
        "    entities = entity_chain.invoke({\"question\": question})\n",
        "    for entity in entities.names:\n",
        "        response = graph.query(\n",
        "            \"\"\"CALL db.index.fulltext.queryNodes('entity', $query, {limit:20})\n",
        "            YIELD node,score\n",
        "            CALL {\n",
        "              WITH node\n",
        "              MATCH (node)-[r:!MENTIONS]->(neighbor)\n",
        "              RETURN node.id + ' - ' + type(r) + ' -> ' + neighbor.id AS output\n",
        "              UNION ALL\n",
        "              WITH node\n",
        "              MATCH (node)<-[r:!MENTIONS]-(neighbor)\n",
        "              RETURN neighbor.id + ' - ' + type(r) + ' -> ' +  node.id AS output\n",
        "            }\n",
        "            RETURN output LIMIT 1000\n",
        "            \"\"\",\n",
        "            {\"query\": generate_full_text_query(entity)},\n",
        "        )\n",
        "        result += \"\\n\".join([el['output'] for el in response])\n",
        "    return result"
      ],
      "metadata": {
        "id": "T3meEmsX5hCU"
      },
      "execution_count": null,
      "outputs": []
    },
    {
      "cell_type": "code",
      "source": [
        "print(structured_retriever(\"レモンと関わりがあるエンティティを知りたい\"))"
      ],
      "metadata": {
        "colab": {
          "base_uri": "https://localhost:8080/"
        },
        "id": "mobzx64NhFgZ",
        "outputId": "a527ad27-38dc-4a27-d251-26e74b4d50df"
      },
      "execution_count": null,
      "outputs": [
        {
          "output_type": "stream",
          "name": "stderr",
          "text": [
            "WARNING:neo4j.notifications:Received notification from DBMS server: {severity: WARNING} {code: Neo.ClientNotification.Statement.FeatureDeprecationWarning} {category: DEPRECATION} {title: This feature is deprecated and will be removed in future versions.} {description: CALL subquery without a variable scope clause is now deprecated. Use CALL (node, node) { ... }} {position: line: 3, column: 13, offset: 105} for query: \"CALL db.index.fulltext.queryNodes('entity', $query, {limit:20})\\n            YIELD node,score\\n            CALL {\\n              WITH node\\n              MATCH (node)-[r:!MENTIONS]->(neighbor)\\n              RETURN node.id + ' - ' + type(r) + ' -> ' + neighbor.id AS output\\n              UNION ALL\\n              WITH node\\n              MATCH (node)<-[r:!MENTIONS]-(neighbor)\\n              RETURN neighbor.id + ' - ' + type(r) + ' -> ' +  node.id AS output\\n            }\\n            RETURN output LIMIT 1000\\n            \"\n"
          ]
        },
        {
          "output_type": "stream",
          "name": "stdout",
          "text": [
            "レモン - 関連 -> 爆弾\n",
            "レモン - 関連 -> 南\n",
            "レモン - なる -> 木\n",
            "レモン - される -> 輪切り\n",
            "レモン - 中に沈める -> ソーダ\n",
            "レモン - 中に沈める -> 蜂蜜\n",
            "レモン - 細切り -> 皮\n",
            "レモン - 刃を当てる -> 皮\n",
            "レモン - USED_WITH -> オリーブ油\n",
            "レモン - BECOMES -> 木\n",
            "レモン - PLANTS_NEAR -> 対岸の島\n",
            "レモン - PLANTS_NEAR -> 駅\n",
            "レモン - DECORATE -> 対岸\n",
            "彼 - 求める -> レモン\n",
            "島 - HAS_PLANT -> レモン\n",
            "爆弾 - 関連付ける -> レモン\n",
            "箱庭 - 必要 -> レモン\n",
            "一個 - 過大 -> レモン\n",
            "少年 - HOLDING -> レモン\n",
            "自転車乗り - SOUGHT -> レモン\n",
            "島 - GROWING -> レモン\n",
            "彼 - PLANTS_NEAR -> レモン\n",
            "対岸 - DECORATED_WITH -> レモン\n",
            "少年 - MATERIAL_USED -> レジン\n",
            "レンズ - 強化 -> 印象\n",
            "レンズ - 試す -> 広角\n",
            "カメラ - 構える -> レンズ\n",
            "少年 - VIEWING_AS -> クレーン\n",
            "志賀直哉 - BUYING -> パン\n",
            "志賀直哉 - PURCHASED -> パン\n",
            "パン屋航路 - HAS_SIGN -> パン屋\n",
            "作家 - COLLEAGUE -> パン屋\n",
            "パン屋航路 - HAS_SIGN -> パン屋\n"
          ]
        }
      ]
    },
    {
      "cell_type": "code",
      "source": [
        "def retriever(question: str):\n",
        "    print(f\"Search query: {question}\")\n",
        "    structured_data = structured_retriever(question)\n",
        "    unstructured_data = [el.page_content for el in vector_index.similarity_search(question)]\n",
        "    final_data = f\"\"\"Structured data:\n",
        "    {structured_data}\n",
        "    Unstructured data:\n",
        "    {\"#Document \". join(unstructured_data)}\n",
        "    \"\"\"\n",
        "    # print(final_data)\n",
        "    return final_data"
      ],
      "metadata": {
        "id": "ijqAmvTe6HVL"
      },
      "execution_count": null,
      "outputs": []
    },
    {
      "cell_type": "code",
      "source": [
        "_search_query = RunnableLambda(lambda x: x[\"question\"])"
      ],
      "metadata": {
        "id": "D0nBs5bRxrV1"
      },
      "execution_count": null,
      "outputs": []
    },
    {
      "cell_type": "code",
      "source": [
        "template = \"\"\"あなたは優秀なAIです。下記のコンテキストを利用してユーザーの質問に丁寧に答えてください。\n",
        "必ず文脈からわかる情報のみを使用して回答を生成してください。\n",
        "{context}\n",
        "\n",
        "ユーザーの質問: {question}\"\"\"\n",
        "prompt = ChatPromptTemplate.from_template(template)\n",
        "\n",
        "chain = (\n",
        "    RunnableParallel(\n",
        "        {\n",
        "            \"context\": _search_query | retriever,\n",
        "            \"question\": RunnablePassthrough(),\n",
        "        }\n",
        "    )\n",
        "    | prompt\n",
        "    | llm\n",
        "    | StrOutputParser()\n",
        ")"
      ],
      "metadata": {
        "id": "mQzgiro36NdG"
      },
      "execution_count": null,
      "outputs": []
    },
    {
      "cell_type": "code",
      "source": [
        "chain.invoke({\"question\": \"トマトスキヤキとは何？\"})"
      ],
      "metadata": {
        "colab": {
          "base_uri": "https://localhost:8080/",
          "height": 124
        },
        "id": "rvRurBCIhHa_",
        "outputId": "6741f5c1-0553-4087-d75f-677b806b49a1"
      },
      "execution_count": null,
      "outputs": [
        {
          "output_type": "stream",
          "name": "stdout",
          "text": [
            "Search query: トマトスキヤキとは何？\n"
          ]
        },
        {
          "output_type": "stream",
          "name": "stderr",
          "text": [
            "WARNING:neo4j.notifications:Received notification from DBMS server: {severity: WARNING} {code: Neo.ClientNotification.Statement.FeatureDeprecationWarning} {category: DEPRECATION} {title: This feature is deprecated and will be removed in future versions.} {description: CALL subquery without a variable scope clause is now deprecated. Use CALL (node, node) { ... }} {position: line: 3, column: 13, offset: 105} for query: \"CALL db.index.fulltext.queryNodes('entity', $query, {limit:20})\\n            YIELD node,score\\n            CALL {\\n              WITH node\\n              MATCH (node)-[r:!MENTIONS]->(neighbor)\\n              RETURN node.id + ' - ' + type(r) + ' -> ' + neighbor.id AS output\\n              UNION ALL\\n              WITH node\\n              MATCH (node)<-[r:!MENTIONS]-(neighbor)\\n              RETURN neighbor.id + ' - ' + type(r) + ' -> ' +  node.id AS output\\n            }\\n            RETURN output LIMIT 1000\\n            \"\n",
            "WARNING:neo4j.notifications:Received notification from DBMS server: {severity: WARNING} {code: Neo.ClientNotification.Statement.FeatureDeprecationWarning} {category: DEPRECATION} {title: This feature is deprecated and will be removed in future versions.} {description: CALL subquery without a variable scope clause is now deprecated. Use CALL () { ... }} {position: line: 1, column: 1, offset: 0} for query: \"CALL { CALL db.index.vector.queryNodes($index, $k, $embedding) YIELD node, score WITH collect({node:node, score:score}) AS nodes, max(score) AS max UNWIND nodes AS n RETURN n.node AS node, (n.score / max) AS score UNION CALL db.index.fulltext.queryNodes($keyword_index, $query, {limit: $k}) YIELD node, score WITH collect({node:node, score:score}) AS nodes, max(score) AS max UNWIND nodes AS n RETURN n.node AS node, (n.score / max) AS score } WITH node, max(score) AS score ORDER BY score DESC LIMIT $k RETURN reduce(str='', k IN ['text'] | str + '\\\\n' + k + ': ' + coalesce(node[k], '')) AS text, node {.*, `embedding`: Null, id: Null, `text`: Null} AS metadata, score\"\n"
          ]
        },
        {
          "output_type": "execute_result",
          "data": {
            "text/plain": [
              "'回答: トマトスキヤキは、尾道と関連がある料理です。林芙美子のトマトのすき焼きというレシピが知られており、トマトを薄く輪切りにして炒め、肉や醤油、甘味料と一緒に調理する料理です。また、尾道でトマトスキヤキを食べたわけではなく、尾道ラーメンやオコゼの唐揚げを試したという記述があります。'"
            ],
            "application/vnd.google.colaboratory.intrinsic+json": {
              "type": "string"
            }
          },
          "metadata": {},
          "execution_count": 42
        }
      ]
    },
    {
      "cell_type": "code",
      "source": [
        "chain.invoke({\"question\": \"トマトスキヤキのレシピは？\"})"
      ],
      "metadata": {
        "colab": {
          "base_uri": "https://localhost:8080/",
          "height": 124
        },
        "id": "nYHJ9c5mRZ69",
        "outputId": "acb1b684-4ad6-4a61-a87c-62408421fb46"
      },
      "execution_count": null,
      "outputs": [
        {
          "output_type": "stream",
          "name": "stdout",
          "text": [
            "Search query: トマトスキヤキのレシピは？\n"
          ]
        },
        {
          "output_type": "stream",
          "name": "stderr",
          "text": [
            "WARNING:neo4j.notifications:Received notification from DBMS server: {severity: WARNING} {code: Neo.ClientNotification.Statement.FeatureDeprecationWarning} {category: DEPRECATION} {title: This feature is deprecated and will be removed in future versions.} {description: CALL subquery without a variable scope clause is now deprecated. Use CALL (node, node) { ... }} {position: line: 3, column: 13, offset: 105} for query: \"CALL db.index.fulltext.queryNodes('entity', $query, {limit:20})\\n            YIELD node,score\\n            CALL {\\n              WITH node\\n              MATCH (node)-[r:!MENTIONS]->(neighbor)\\n              RETURN node.id + ' - ' + type(r) + ' -> ' + neighbor.id AS output\\n              UNION ALL\\n              WITH node\\n              MATCH (node)<-[r:!MENTIONS]-(neighbor)\\n              RETURN neighbor.id + ' - ' + type(r) + ' -> ' +  node.id AS output\\n            }\\n            RETURN output LIMIT 1000\\n            \"\n",
            "WARNING:neo4j.notifications:Received notification from DBMS server: {severity: WARNING} {code: Neo.ClientNotification.Statement.FeatureDeprecationWarning} {category: DEPRECATION} {title: This feature is deprecated and will be removed in future versions.} {description: CALL subquery without a variable scope clause is now deprecated. Use CALL () { ... }} {position: line: 1, column: 1, offset: 0} for query: \"CALL { CALL db.index.vector.queryNodes($index, $k, $embedding) YIELD node, score WITH collect({node:node, score:score}) AS nodes, max(score) AS max UNWIND nodes AS n RETURN n.node AS node, (n.score / max) AS score UNION CALL db.index.fulltext.queryNodes($keyword_index, $query, {limit: $k}) YIELD node, score WITH collect({node:node, score:score}) AS nodes, max(score) AS max UNWIND nodes AS n RETURN n.node AS node, (n.score / max) AS score } WITH node, max(score) AS score ORDER BY score DESC LIMIT $k RETURN reduce(str='', k IN ['text'] | str + '\\\\n' + k + ': ' + coalesce(node[k], '')) AS text, node {.*, `embedding`: Null, id: Null, `text`: Null} AS metadata, score\"\n"
          ]
        },
        {
          "output_type": "execute_result",
          "data": {
            "text/plain": [
              "'トマトスキヤキのレシピは、薄く輪切りにしたトマトをバターかラードで炒め、火が通ったら肉を載せ、醤油と甘味料を加えるというものです。また、別のレシピでは、輪切りにした玉葱を炒めておいて、トマトを投入し、割り下を注ぎ、バジルの葉を入れ、牛肉を広げて溶き卵につけて食べるという方法もあります。'"
            ],
            "application/vnd.google.colaboratory.intrinsic+json": {
              "type": "string"
            }
          },
          "metadata": {},
          "execution_count": 49
        }
      ]
    },
    {
      "cell_type": "code",
      "source": [
        "chain.invoke({\"question\": \"取材先はどこ？\"})"
      ],
      "metadata": {
        "id": "2cqRizwtqn_a",
        "colab": {
          "base_uri": "https://localhost:8080/",
          "height": 107
        },
        "outputId": "90a4a06f-8f39-4cb4-8d50-505cfbb6aa47"
      },
      "execution_count": null,
      "outputs": [
        {
          "output_type": "stream",
          "name": "stdout",
          "text": [
            "Search query: 取材先はどこ？\n"
          ]
        },
        {
          "output_type": "stream",
          "name": "stderr",
          "text": [
            "WARNING:neo4j.notifications:Received notification from DBMS server: {severity: WARNING} {code: Neo.ClientNotification.Statement.FeatureDeprecationWarning} {category: DEPRECATION} {title: This feature is deprecated and will be removed in future versions.} {description: CALL subquery without a variable scope clause is now deprecated. Use CALL (node, node) { ... }} {position: line: 3, column: 13, offset: 105} for query: \"CALL db.index.fulltext.queryNodes('entity', $query, {limit:20})\\n            YIELD node,score\\n            CALL {\\n              WITH node\\n              MATCH (node)-[r:!MENTIONS]->(neighbor)\\n              RETURN node.id + ' - ' + type(r) + ' -> ' + neighbor.id AS output\\n              UNION ALL\\n              WITH node\\n              MATCH (node)<-[r:!MENTIONS]-(neighbor)\\n              RETURN neighbor.id + ' - ' + type(r) + ' -> ' +  node.id AS output\\n            }\\n            RETURN output LIMIT 1000\\n            \"\n",
            "WARNING:neo4j.notifications:Received notification from DBMS server: {severity: WARNING} {code: Neo.ClientNotification.Statement.FeatureDeprecationWarning} {category: DEPRECATION} {title: This feature is deprecated and will be removed in future versions.} {description: CALL subquery without a variable scope clause is now deprecated. Use CALL () { ... }} {position: line: 1, column: 1, offset: 0} for query: \"CALL { CALL db.index.vector.queryNodes($index, $k, $embedding) YIELD node, score WITH collect({node:node, score:score}) AS nodes, max(score) AS max UNWIND nodes AS n RETURN n.node AS node, (n.score / max) AS score UNION CALL db.index.fulltext.queryNodes($keyword_index, $query, {limit: $k}) YIELD node, score WITH collect({node:node, score:score}) AS nodes, max(score) AS max UNWIND nodes AS n RETURN n.node AS node, (n.score / max) AS score } WITH node, max(score) AS score ORDER BY score DESC LIMIT $k RETURN reduce(str='', k IN ['text'] | str + '\\\\n' + k + ': ' + coalesce(node[k], '')) AS text, node {.*, `embedding`: Null, id: Null, `text`: Null} AS metadata, score\"\n"
          ]
        },
        {
          "output_type": "execute_result",
          "data": {
            "text/plain": [
              "'取材先は尾道です。'"
            ],
            "application/vnd.google.colaboratory.intrinsic+json": {
              "type": "string"
            }
          },
          "metadata": {},
          "execution_count": 46
        }
      ]
    },
    {
      "cell_type": "code",
      "source": [],
      "metadata": {
        "id": "8pZhyuyv2jKX"
      },
      "execution_count": null,
      "outputs": []
    }
  ]
}